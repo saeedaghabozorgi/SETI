{
    "nbformat": 4, 
    "metadata": {
        "language_info": {
            "pygments_lexer": "ipython2", 
            "codemirror_mode": {
                "name": "ipython", 
                "version": 2
            }, 
            "file_extension": ".py", 
            "version": "2.7.11", 
            "mimetype": "text/x-python", 
            "name": "python", 
            "nbconvert_exporter": "python"
        }, 
        "kernelspec": {
            "name": "python2", 
            "language": "python", 
            "display_name": "Python 2 with Spark 1.6"
        }
    }, 
    "cells": [
        {
            "source": "# SETI CNN using TF and Binary DS", 
            "metadata": {
                "button": false, 
                "deletable": true, 
                "new_sheet": false, 
                "run_control": {
                    "read_only": false
                }
            }, 
            "cell_type": "markdown"
        }, 
        {
            "outputs": [
                {
                    "name": "stdout", 
                    "text": "[sudo] password for sd22-2e55b7df66e8c3-b01c69100280: \n\n", 
                    "output_type": "stream"
                }
            ], 
            "source": "import requests\nimport json\n#import ibmseti\nimport numpy as np\nimport matplotlib.pyplot as plt\n%matplotlib inline\nimport tensorflow as tf\nimport pickle\nimport time\n!sudo pip install sklearn\nimport os\nfrom sklearn.metrics import confusion_matrix\nfrom sklearn import metrics", 
            "execution_count": 1, 
            "cell_type": "code", 
            "metadata": {
                "button": false, 
                "deletable": true, 
                "new_sheet": false, 
                "collapsed": false, 
                "run_control": {
                    "read_only": false
                }
            }
        }, 
        {
            "source": "### import dataset reader", 
            "metadata": {
                "button": false, 
                "deletable": true, 
                "new_sheet": false, 
                "run_control": {
                    "read_only": false
                }
            }, 
            "cell_type": "markdown"
        }, 
        {
            "outputs": [
                {
                    "name": "stdout", 
                    "text": "--2017-05-24 18:46:43--  https://ibm.box.com/shared/static/jhqdhcblhua5dx2t7ixwm88okitjrl6l.zip\nResolving ibm.box.com (ibm.box.com)... 107.152.25.197, 107.152.24.197\nConnecting to ibm.box.com (ibm.box.com)|107.152.25.197|:443... connected.\nHTTP request sent, awaiting response... 301 Moved Permanently\nLocation: https://ibm.ent.box.com/shared/static/jhqdhcblhua5dx2t7ixwm88okitjrl6l.zip [following]\n--2017-05-24 18:46:43--  https://ibm.ent.box.com/shared/static/jhqdhcblhua5dx2t7ixwm88okitjrl6l.zip\nResolving ibm.ent.box.com (ibm.ent.box.com)... 107.152.25.211, 107.152.24.211\nConnecting to ibm.ent.box.com (ibm.ent.box.com)|107.152.25.211|:443... connected.\nHTTP request sent, awaiting response... 302 Found\nLocation: https://public.boxcloud.com/d/1/s2_lVJepkZnrb_1Shd6kaEgHAevGs0Pd5Pr4PxpSpWc1x1Bn03Y-XRIHdHRDC3cFDI6wolqW4T4AyLiTRP6bYTFxXRMVMEHTfqHUVhpweNblBnDmW7o1cX-Su0YHKR5c0jUKxAUIA9_xo76GdqzUEvCJ7B8A1JeuNRYKl8pkPr2xFveYYwaiTKu5eboE2-PyrAhccwzBbasH7F6CCUWZUznvJnjyit0vxLoY-9mPtoRMCsfcmPBG3qbSbE12oBz9sCkyZuGZQkOhpP1sFkm4AWsHCK1OO35-1ARhquUV_vozJph4uHZagCis4Llag_BkbuzlX4kn2X9b7cGX3dU97qZCVMJO2-LsrwGqtSUK2WZXFV_yAyGbbgekEZNHUnUo7wYIlNcWAd2sbwEPa02gsZTge_Sc7l9muq2U4Xvj58ed9tL1jOafK7uBYiigyEErxMUJeJsrs72RS0NafEdf4XZp5wT76S2-PwiBbwh7hdDmRdFPpvizHz0OwlJl7-B-kw6X-A6mzNEdDiyzMBZ3DkZrzId8YTzVS7LIyfNBLsLhHa6FR12aflR07ou7mnzKkK6wpfOxcplZoxfiwb9wQmPonubY5J3b6josq_ozqoco6jn2759gT1VcGb9pFL9KLIJtAOvCP3_kPDEjdRCcpQsDtNlF6L9dyyq-9lDt3ayxIm4ehz4nM_x0TLmeBapta7YeEZgWLukuBQywgtpneG_bL0JN0ZnoAc2SrPbmdHLaPGT4nxAoJwCdiUHzd3x7LvqZku8pMfQ2Qf-BsGNuKRJ709Gf5_iiqeZ5CNbqY-ToVtdjhEgKzQIaPKERPPazCFzVOCo5ehhKvUf2CsIKFL68rrVT7JSFnnlPljawJ8Eyj7bYfnMGucQjo0TD7DQj_CsTI2AVX0t4t9AE5iqikHjk-CqFNNamGhKatDTnvDUI69A52sd1cmiNbECSe-nzoBVYG6DomAwj34u85oV7z5nkmXOL0-gNohyUyGU_Throjtujl_kMefOVgKioUB_UHfv552yRWPZL7ysuH1RzxAee0meEFXHs6SttXTDyLIazPwxgZ5h-_Ygcy90tCKomEc_gxRP9cjg-i8uppZaPmmnI69UQVEfWQ7j1f4V8GNUE-vBpzt_DesAkUZjmey621qDo_0RKH0blzZuhZbOOJQ../download [following]\n--2017-05-24 18:46:43--  https://public.boxcloud.com/d/1/s2_lVJepkZnrb_1Shd6kaEgHAevGs0Pd5Pr4PxpSpWc1x1Bn03Y-XRIHdHRDC3cFDI6wolqW4T4AyLiTRP6bYTFxXRMVMEHTfqHUVhpweNblBnDmW7o1cX-Su0YHKR5c0jUKxAUIA9_xo76GdqzUEvCJ7B8A1JeuNRYKl8pkPr2xFveYYwaiTKu5eboE2-PyrAhccwzBbasH7F6CCUWZUznvJnjyit0vxLoY-9mPtoRMCsfcmPBG3qbSbE12oBz9sCkyZuGZQkOhpP1sFkm4AWsHCK1OO35-1ARhquUV_vozJph4uHZagCis4Llag_BkbuzlX4kn2X9b7cGX3dU97qZCVMJO2-LsrwGqtSUK2WZXFV_yAyGbbgekEZNHUnUo7wYIlNcWAd2sbwEPa02gsZTge_Sc7l9muq2U4Xvj58ed9tL1jOafK7uBYiigyEErxMUJeJsrs72RS0NafEdf4XZp5wT76S2-PwiBbwh7hdDmRdFPpvizHz0OwlJl7-B-kw6X-A6mzNEdDiyzMBZ3DkZrzId8YTzVS7LIyfNBLsLhHa6FR12aflR07ou7mnzKkK6wpfOxcplZoxfiwb9wQmPonubY5J3b6josq_ozqoco6jn2759gT1VcGb9pFL9KLIJtAOvCP3_kPDEjdRCcpQsDtNlF6L9dyyq-9lDt3ayxIm4ehz4nM_x0TLmeBapta7YeEZgWLukuBQywgtpneG_bL0JN0ZnoAc2SrPbmdHLaPGT4nxAoJwCdiUHzd3x7LvqZku8pMfQ2Qf-BsGNuKRJ709Gf5_iiqeZ5CNbqY-ToVtdjhEgKzQIaPKERPPazCFzVOCo5ehhKvUf2CsIKFL68rrVT7JSFnnlPljawJ8Eyj7bYfnMGucQjo0TD7DQj_CsTI2AVX0t4t9AE5iqikHjk-CqFNNamGhKatDTnvDUI69A52sd1cmiNbECSe-nzoBVYG6DomAwj34u85oV7z5nkmXOL0-gNohyUyGU_Throjtujl_kMefOVgKioUB_UHfv552yRWPZL7ysuH1RzxAee0meEFXHs6SttXTDyLIazPwxgZ5h-_Ygcy90tCKomEc_gxRP9cjg-i8uppZaPmmnI69UQVEfWQ7j1f4V8GNUE-vBpzt_DesAkUZjmey621qDo_0RKH0blzZuhZbOOJQ../download\nResolving public.boxcloud.com (public.boxcloud.com)... 107.152.25.200, 107.152.24.200\nConnecting to public.boxcloud.com (public.boxcloud.com)|107.152.25.200|:443... connected.\nHTTP request sent, awaiting response... 200 OK\nLength: 3288 (3.2K) [application/zip]\nSaving to: \u2018SETI.zip\u2019\n\n100%[======================================>] 3,288       --.-K/s   in 0s      \n\n2017-05-24 18:46:44 (178 MB/s) - \u2018SETI.zip\u2019 saved [3288/3288]\n\nArchive:  SETI.zip\n  inflating: SETI.py                 \n  inflating: __MACOSX/._SETI.py      \n", 
                    "output_type": "stream"
                }
            ], 
            "source": "!wget --output-document SETI.zip  https://ibm.box.com/shared/static/jhqdhcblhua5dx2t7ixwm88okitjrl6l.zip\n!unzip -o SETI.zip\nimport SETI", 
            "execution_count": 2, 
            "cell_type": "code", 
            "metadata": {
                "button": false, 
                "deletable": true, 
                "new_sheet": false, 
                "collapsed": false, 
                "run_control": {
                    "read_only": false
                }
            }
        }, 
        {
            "source": "### Download data", 
            "metadata": {
                "button": false, 
                "deletable": true, 
                "new_sheet": false, 
                "run_control": {
                    "read_only": false
                }
            }, 
            "cell_type": "markdown"
        }, 
        {
            "outputs": [], 
            "source": "ds_directory = 'SETI/SETI_ds_64x128/'\nds_name = 'SETI/SETI64x128.tar.gz'", 
            "execution_count": 3, 
            "cell_type": "code", 
            "metadata": {
                "button": false, 
                "deletable": true, 
                "new_sheet": false, 
                "collapsed": true, 
                "run_control": {
                    "read_only": false
                }
            }
        }, 
        {
            "source": "# @hidden_cell\n!rm -r SETI/*\n!mkdir SETI\nos.system('wget --output-document '+ ds_name +' https://ibm.box.com/shared/static/zl3e3y7780h3bsqwt1g5elg57jvw7a3z.gz')\nos.system('tar -xvf '+ ds_name)", 
            "metadata": {
                "button": false, 
                "deletable": true, 
                "new_sheet": false, 
                "collapsed": true, 
                "run_control": {
                    "read_only": false
                }
            }, 
            "cell_type": "raw"
        }, 
        {
            "outputs": [
                {
                    "name": "stdout", 
                    "text": "total 7152\n-rw-r----- 1 sd22-2e55b7df66e8c3-b01c69100280 users 1665328 May 22 21:11 train-images-idx3-ubyte.gz\n-rw-r----- 1 sd22-2e55b7df66e8c3-b01c69100280 users     306 May 22 21:11 train-labels-idx1-ubyte.gz\n-rw-r----- 1 sd22-2e55b7df66e8c3-b01c69100280 users  765379 May 22 21:11 test-images-idx3-ubyte.gz\n-rw-r----- 1 sd22-2e55b7df66e8c3-b01c69100280 users     172 May 22 21:11 test-labels-idx1-ubyte.gz\n\n", 
                    "output_type": "stream"
                }
            ], 
            "source": "print os.popen(\"ls -lrt \"+ ds_directory).read() # to verify", 
            "execution_count": 4, 
            "cell_type": "code", 
            "metadata": {
                "button": false, 
                "deletable": true, 
                "new_sheet": false, 
                "collapsed": false, 
                "run_control": {
                    "read_only": false
                }
            }
        }, 
        {
            "source": "### Load data SETI", 
            "metadata": {
                "button": false, 
                "deletable": true, 
                "new_sheet": false, 
                "run_control": {
                    "read_only": false
                }
            }, 
            "cell_type": "markdown"
        }, 
        {
            "outputs": [
                {
                    "name": "stdout", 
                    "text": "Extracting SETI/SETI_ds_64x128/train-images-idx3-ubyte.gz\nExtracting SETI/SETI_ds_64x128/train-labels-idx1-ubyte.gz\nExtracting SETI/SETI_ds_64x128/test-images-idx3-ubyte.gz\nExtracting SETI/SETI_ds_64x128/test-labels-idx1-ubyte.gz\n", 
                    "output_type": "stream"
                }, 
                {
                    "output_type": "execute_result", 
                    "execution_count": 5, 
                    "data": {
                        "text/plain": "(694, 8192)"
                    }, 
                    "metadata": {}
                }
            ], 
            "source": "#from tensorflow.examples.tutorials.mnist import input_data\n#dataset = input_data.read_data_sets(\"MNIST_data/\", one_hot=True)\ndataset = SETI.read_data_sets(ds_directory, one_hot=True, validation_size=0)\ndataset.train.images.shape", 
            "execution_count": 5, 
            "cell_type": "code", 
            "metadata": {
                "button": false, 
                "deletable": true, 
                "new_sheet": false, 
                "collapsed": false, 
                "run_control": {
                    "read_only": false
                }
            }
        }, 
        {
            "source": "## Network Parameters", 
            "metadata": {
                "button": false, 
                "deletable": true, 
                "new_sheet": false, 
                "run_control": {
                    "read_only": false
                }
            }, 
            "cell_type": "markdown"
        }, 
        {
            "outputs": [], 
            "source": "# Parameters\ndecay_rate=0.98\ndecay_steps=1000\nlearning_rate = 0.05\ntraining_epochs = 20\nbatch_size = 50\ndisplay_step = 100\n\n#check point directory\nchk_directory = 'SETI/save/'\ncheckpoint_path = chk_directory+'model.ckpt'\n\n\nn_classes = 4 # number of possible classifications for the problem\ndropout = 0.50 # Dropout, probability to keep units\n\nheight = 64 # height of the image in pixels \nwidth = 128 # width of the image in pixels \nn_input = width * height # number of pixels in one image \n", 
            "execution_count": 6, 
            "cell_type": "code", 
            "metadata": {
                "button": false, 
                "deletable": true, 
                "new_sheet": false, 
                "collapsed": true, 
                "run_control": {
                    "read_only": false
                }
            }
        }, 
        {
            "source": "### Inputs", 
            "metadata": {
                "button": false, 
                "deletable": true, 
                "new_sheet": false, 
                "run_control": {
                    "read_only": false
                }
            }, 
            "cell_type": "markdown"
        }, 
        {
            "outputs": [], 
            "source": "x  = tf.placeholder(tf.float32, shape=[None, n_input])\ny_ = tf.placeholder(tf.float32, shape=[None, n_classes])", 
            "execution_count": 7, 
            "cell_type": "code", 
            "metadata": {
                "button": false, 
                "deletable": true, 
                "new_sheet": false, 
                "collapsed": true, 
                "run_control": {
                    "read_only": false
                }
            }
        }, 
        {
            "outputs": [
                {
                    "output_type": "execute_result", 
                    "execution_count": 8, 
                    "data": {
                        "text/plain": "<tf.Tensor 'Reshape:0' shape=(?, 64, 128, 1) dtype=float32>"
                    }, 
                    "metadata": {}
                }
            ], 
            "source": "x_image = tf.reshape(x, [-1,height,width,1]) \nx_image", 
            "execution_count": 8, 
            "cell_type": "code", 
            "metadata": {
                "button": false, 
                "deletable": true, 
                "new_sheet": false, 
                "collapsed": false, 
                "run_control": {
                    "read_only": false
                }
            }
        }, 
        {
            "source": "#### Convolutional Layer 1", 
            "metadata": {
                "button": false, 
                "deletable": true, 
                "new_sheet": false, 
                "run_control": {
                    "read_only": false
                }
            }, 
            "cell_type": "markdown"
        }, 
        {
            "outputs": [
                {
                    "output_type": "execute_result", 
                    "execution_count": 9, 
                    "data": {
                        "text/plain": "<tf.Tensor 'MaxPool:0' shape=(?, 32, 64, 32) dtype=float32>"
                    }, 
                    "metadata": {}
                }
            ], 
            "source": "W_conv1 = tf.Variable(tf.truncated_normal([5, 5, 1, 32], stddev=0.1))\nb_conv1 = tf.Variable(tf.constant(0.1, shape=[32])) # need 32 biases for 32 outputs\nconvolve1 = tf.nn.conv2d(x_image, W_conv1, strides=[1, 1, 1, 1], padding='SAME') + b_conv1\nh_conv1 = tf.nn.relu(convolve1)\nconv1 = tf.nn.max_pool(h_conv1, ksize=[1, 2, 2, 1], strides=[1, 2, 2, 1], padding='SAME') #max_pool_2x2\nconv1", 
            "execution_count": 9, 
            "cell_type": "code", 
            "metadata": {
                "button": false, 
                "deletable": true, 
                "new_sheet": false, 
                "collapsed": false, 
                "run_control": {
                    "read_only": false
                }
            }
        }, 
        {
            "source": "#### Convolutional Layer 2", 
            "metadata": {
                "button": false, 
                "deletable": true, 
                "new_sheet": false, 
                "run_control": {
                    "read_only": false
                }
            }, 
            "cell_type": "markdown"
        }, 
        {
            "outputs": [
                {
                    "output_type": "execute_result", 
                    "execution_count": 10, 
                    "data": {
                        "text/plain": "<tf.Tensor 'MaxPool_1:0' shape=(?, 8, 16, 64) dtype=float32>"
                    }, 
                    "metadata": {}
                }
            ], 
            "source": "W_conv2 = tf.Variable(tf.truncated_normal([5, 5, 32, 64], stddev=0.1))\nb_conv2 = tf.Variable(tf.constant(0.1, shape=[64])) #need 64 biases for 64 outputs\nconvolve2= tf.nn.conv2d(conv1, W_conv2, strides=[1, 1, 1, 1], padding='SAME')+ b_conv2\nh_conv2 = tf.nn.relu(convolve2)\nconv2 = tf.nn.max_pool(h_conv2, ksize=[1, 2, 2, 1], strides=[1, 4, 4, 1], padding='SAME') #max_pool_2x2\nconv2", 
            "execution_count": 10, 
            "cell_type": "code", 
            "metadata": {
                "button": false, 
                "deletable": true, 
                "new_sheet": false, 
                "collapsed": false, 
                "run_control": {
                    "read_only": false
                }
            }
        }, 
        {
            "source": "#### Convolutional Layer 3", 
            "metadata": {
                "button": false, 
                "deletable": true, 
                "new_sheet": false, 
                "run_control": {
                    "read_only": false
                }
            }, 
            "cell_type": "markdown"
        }, 
        {
            "source": "W_conv3 = tf.Variable(tf.truncated_normal([5, 5, 64, 128], stddev=0.1))\nb_conv3 = tf.Variable(tf.constant(0.1, shape=[128])) #need 64 biases for 64 outputs\nconvolve3= tf.nn.conv2d(conv2, W_conv3, strides=[1, 1, 1, 1], padding='SAME')+ b_conv3\nh_conv3 = tf.nn.relu(convolve3)\nconv3 = tf.nn.max_pool(h_conv3, ksize=[1, 2, 2, 1], strides=[1, 2, 2, 1], padding='SAME') #max_pool_2x2\nconv3", 
            "metadata": {
                "button": false, 
                "deletable": true, 
                "new_sheet": false, 
                "run_control": {
                    "read_only": false
                }
            }, 
            "cell_type": "raw"
        }, 
        {
            "source": "#### Convolutional Layer 4", 
            "metadata": {
                "button": false, 
                "deletable": true, 
                "new_sheet": false, 
                "run_control": {
                    "read_only": false
                }
            }, 
            "cell_type": "markdown"
        }, 
        {
            "source": "W_conv4 = tf.Variable(tf.truncated_normal([5, 5, 128, 256], stddev=0.1))\nb_conv4 = tf.Variable(tf.constant(0.1, shape=[256])) #need 64 biases for 64 outputs\nconvolve4= tf.nn.conv2d(conv3, W_conv4, strides=[1, 1, 1, 1], padding='SAME')+ b_conv4\nh_conv4 = tf.nn.relu(convolve4)\nconv4 = tf.nn.max_pool(h_conv4, ksize=[1, 2, 2, 1], strides=[1, 2, 2, 1], padding='SAME') #max_pool_2x2", 
            "metadata": {
                "button": false, 
                "deletable": true, 
                "new_sheet": false, 
                "collapsed": true, 
                "run_control": {
                    "read_only": false
                }
            }, 
            "cell_type": "raw"
        }, 
        {
            "source": "#### Fully Connected Layer 1", 
            "metadata": {
                "button": false, 
                "deletable": true, 
                "new_sheet": false, 
                "run_control": {
                    "read_only": false
                }
            }, 
            "cell_type": "markdown"
        }, 
        {
            "outputs": [
                {
                    "output_type": "execute_result", 
                    "execution_count": 11, 
                    "data": {
                        "text/plain": "[None, 8, 16, 64]"
                    }, 
                    "metadata": {}
                }
            ], 
            "source": "input_layer = conv2\ndim = input_layer.get_shape().as_list()\ndim", 
            "execution_count": 11, 
            "cell_type": "code", 
            "metadata": {
                "button": false, 
                "deletable": true, 
                "new_sheet": false, 
                "collapsed": false, 
                "run_control": {
                    "read_only": false
                }
            }
        }, 
        {
            "outputs": [
                {
                    "output_type": "execute_result", 
                    "execution_count": 12, 
                    "data": {
                        "text/plain": "<tf.Tensor 'Relu_2:0' shape=(?, 1024) dtype=float32>"
                    }, 
                    "metadata": {}
                }
            ], 
            "source": "dims= dim[1]*dim[2]*dim[3]\nnodes1 = 1024\nprv_layer_matrix = tf.reshape(input_layer, [-1, dims])\nW_fc1 = tf.Variable(tf.truncated_normal([dims, nodes1], stddev=0.1))\nb_fc1 = tf.Variable(tf.constant(0.1, shape=[nodes1])) # need 1024 biases for 1024 outputs\nh_fcl1  = tf.matmul(prv_layer_matrix, W_fc1) + b_fc1\nfc_layer1 = tf.nn.relu(h_fcl1) # ???\nfc_layer1\n", 
            "execution_count": 12, 
            "cell_type": "code", 
            "metadata": {
                "button": false, 
                "deletable": true, 
                "new_sheet": false, 
                "collapsed": false, 
                "run_control": {
                    "read_only": false
                }
            }
        }, 
        {
            "source": "#### Droupout 1", 
            "metadata": {
                "button": false, 
                "deletable": true, 
                "new_sheet": false, 
                "run_control": {
                    "read_only": false
                }
            }, 
            "cell_type": "markdown"
        }, 
        {
            "outputs": [], 
            "source": "keep_prob = tf.placeholder(tf.float32)\nlayer_drop1 = tf.nn.dropout(fc_layer1, keep_prob)", 
            "execution_count": 13, 
            "cell_type": "code", 
            "metadata": {
                "button": false, 
                "deletable": true, 
                "new_sheet": false, 
                "collapsed": true, 
                "run_control": {
                    "read_only": false
                }
            }
        }, 
        {
            "source": "#### Fully Connected Layer 2", 
            "metadata": {
                "button": false, 
                "deletable": true, 
                "new_sheet": false, 
                "run_control": {
                    "read_only": false
                }
            }, 
            "cell_type": "markdown"
        }, 
        {
            "source": "nodes2 = 256\nW_fc2 = tf.Variable(tf.truncated_normal([layer_drop1.get_shape().as_list()[1], nodes2], stddev=0.1))\nb_fc2 = tf.Variable(tf.constant(0.1, shape=[nodes2])) \nh_fcl2  = tf.matmul(layer_drop1, W_fc2) + b_fc2\nfc_layer2 = tf.nn.relu(h_fcl2) # ???\nfc_layer2", 
            "metadata": {
                "button": false, 
                "deletable": true, 
                "new_sheet": false, 
                "run_control": {
                    "read_only": false
                }
            }, 
            "cell_type": "raw"
        }, 
        {
            "source": "#### Droupout 2", 
            "metadata": {
                "button": false, 
                "deletable": true, 
                "new_sheet": false, 
                "run_control": {
                    "read_only": false
                }
            }, 
            "cell_type": "markdown"
        }, 
        {
            "source": "layer_drop2 = tf.nn.dropout(fc_layer2, keep_prob)", 
            "metadata": {
                "button": false, 
                "deletable": true, 
                "new_sheet": false, 
                "collapsed": true, 
                "run_control": {
                    "read_only": false
                }
            }, 
            "cell_type": "raw"
        }, 
        {
            "source": "#### Readout Layer", 
            "metadata": {
                "button": false, 
                "deletable": true, 
                "new_sheet": false, 
                "run_control": {
                    "read_only": false
                }
            }, 
            "cell_type": "markdown"
        }, 
        {
            "outputs": [], 
            "source": "W_fc = tf.Variable(tf.truncated_normal([nodes1, n_classes], stddev=0.1)) #1024 neurons\nb_fc = tf.Variable(tf.constant(0.1, shape=[n_classes])) # 10 possibilities for classes [0,1,2,3]\nfc = tf.matmul(layer_drop1, W_fc) + b_fc\ny_CNN= tf.nn.softmax(fc)", 
            "execution_count": 14, 
            "cell_type": "code", 
            "metadata": {
                "button": false, 
                "deletable": true, 
                "new_sheet": false, 
                "collapsed": true, 
                "run_control": {
                    "read_only": false
                }
            }
        }, 
        {
            "source": "#### Loss function", 
            "metadata": {
                "button": false, 
                "deletable": true, 
                "new_sheet": false, 
                "run_control": {
                    "read_only": false
                }
            }, 
            "cell_type": "markdown"
        }, 
        {
            "outputs": [], 
            "source": "#cross_entropy = tf.reduce_mean(-tf.reduce_sum(y_ * tf.log(y_l4_conv), reduction_indices=[1]))\ncross_entropy = tf.reduce_mean(tf.nn.softmax_cross_entropy_with_logits(logits=y_CNN, labels=y_))", 
            "execution_count": 15, 
            "cell_type": "code", 
            "metadata": {
                "button": false, 
                "deletable": true, 
                "new_sheet": false, 
                "collapsed": true, 
                "run_control": {
                    "read_only": false
                }
            }
        }, 
        {
            "source": "#### Training\n", 
            "metadata": {
                "button": false, 
                "deletable": true, 
                "new_sheet": false, 
                "run_control": {
                    "read_only": false
                }
            }, 
            "cell_type": "markdown"
        }, 
        {
            "outputs": [], 
            "source": "# Create a variable to track the global step.\nglobal_step = tf.Variable(0, trainable=False)\n\n# create learning_decay\nlr = tf.train.exponential_decay( learning_rate,\n                                 global_step,\n                                 decay_steps,\n                                 decay_rate, staircase=True )", 
            "execution_count": 16, 
            "cell_type": "code", 
            "metadata": {
                "button": false, 
                "deletable": true, 
                "new_sheet": false, 
                "collapsed": true, 
                "run_control": {
                    "read_only": false
                }
            }
        }, 
        {
            "outputs": [], 
            "source": "# Use the optimizer to apply the gradients that minimize the loss\n# (and also increment the global step counter) as a single training step.\noptimizer = tf.train.GradientDescentOptimizer(lr)\n\ntrain_op = optimizer.minimize(cross_entropy, global_step=global_step)\n#train_op = tf.train.AdamOptimizer(learning_rate=learning_rate).minimize(cross_entropy)", 
            "execution_count": 17, 
            "cell_type": "code", 
            "metadata": {
                "button": false, 
                "deletable": true, 
                "new_sheet": false, 
                "collapsed": true, 
                "run_control": {
                    "read_only": false
                }
            }
        }, 
        {
            "source": "#### Evaluation", 
            "metadata": {
                "button": false, 
                "deletable": true, 
                "new_sheet": false, 
                "run_control": {
                    "read_only": false
                }
            }, 
            "cell_type": "markdown"
        }, 
        {
            "outputs": [], 
            "source": "correct_prediction = tf.equal(tf.argmax(y_CNN,1), tf.argmax(y_,1))\naccuracy = tf.reduce_mean(tf.cast(correct_prediction, tf.float32))", 
            "execution_count": 18, 
            "cell_type": "code", 
            "metadata": {
                "button": false, 
                "deletable": true, 
                "new_sheet": false, 
                "collapsed": true, 
                "run_control": {
                    "read_only": false
                }
            }
        }, 
        {
            "source": "### Create checkpoint directory", 
            "metadata": {
                "button": false, 
                "deletable": true, 
                "new_sheet": false, 
                "run_control": {
                    "read_only": false
                }
            }, 
            "cell_type": "markdown"
        }, 
        {
            "outputs": [
                {
                    "name": "stdout", 
                    "text": "model_checkpoint_path: \"SETI/save/model.ckpt-240\"\nall_model_checkpoint_paths: \"SETI/save/model.ckpt-240\"\n\n", 
                    "output_type": "stream"
                }
            ], 
            "source": "directory = os.path.dirname(chk_directory)\ntry:\n    os.stat(directory)\n    ckpt = tf.train.get_checkpoint_state(chk_directory)\n    print ckpt\nexcept:\n    os.mkdir(directory) ", 
            "execution_count": 19, 
            "cell_type": "code", 
            "metadata": {
                "button": false, 
                "deletable": true, 
                "new_sheet": false, 
                "collapsed": false, 
                "run_control": {
                    "read_only": false
                }
            }
        }, 
        {
            "source": "## Training", 
            "metadata": {
                "button": false, 
                "deletable": true, 
                "new_sheet": false, 
                "run_control": {
                    "read_only": false
                }
            }, 
            "cell_type": "markdown"
        }, 
        {
            "outputs": [], 
            "source": "# Initializing the variables\ninit = tf.initialize_all_variables()", 
            "execution_count": 20, 
            "cell_type": "code", 
            "metadata": {
                "button": false, 
                "deletable": true, 
                "new_sheet": false, 
                "collapsed": false, 
                "run_control": {
                    "read_only": false
                }
            }
        }, 
        {
            "outputs": [
                {
                    "name": "stdout", 
                    "text": "loading model:  SETI/save/model.ckpt-240\nEpoch: 0001 lr= 0.050000001 cost= 1.172027258 Acc= 0.527692309\nEpoch: 0002 lr= 0.050000001 cost= 1.185723607 Acc= 0.504615380\nEpoch: 0003 lr= 0.050000001 cost= 1.169946863 Acc= 0.523076917\nEpoch: 0004 lr= 0.050000001 cost= 1.155229550 Acc= 0.563076920\nEpoch: 0005 lr= 0.050000001 cost= 1.171567935 Acc= 0.526153844\nEpoch: 0006 lr= 0.050000001 cost= 1.177281050 Acc= 0.512307690\nEpoch: 0007 lr= 0.050000001 cost= 1.159419537 Acc= 0.553846148\nEpoch: 0008 lr= 0.050000001 cost= 1.155651138 Acc= 0.540000003\nEpoch: 0009 lr= 0.050000001 cost= 1.178517287 Acc= 0.524615382\nEpoch: 0010 lr= 0.050000001 cost= 1.163363163 Acc= 0.538461536\nEpoch: 0011 lr= 0.050000001 cost= 1.169976308 Acc= 0.547692313\nEpoch: 0012 lr= 0.050000001 cost= 1.170629538 Acc= 0.519999995\nEpoch: 0013 lr= 0.050000001 cost= 1.170866223 Acc= 0.530769231\nEpoch: 0014 lr= 0.050000001 cost= 1.171847884 Acc= 0.523076924\nEpoch: 0015 lr= 0.050000001 cost= 1.164373132 Acc= 0.552307693\nEpoch: 0016 lr= 0.050000001 cost= 1.163633640 Acc= 0.533846158\nEpoch: 0017 lr= 0.050000001 cost= 1.160224529 Acc= 0.544615381\nEpoch: 0018 lr= 0.050000001 cost= 1.177783654 Acc= 0.527692307\nEpoch: 0019 lr= 0.050000001 cost= 1.166353932 Acc= 0.564615387\nEpoch: 0020 lr= 0.050000001 cost= 1.166012957 Acc= 0.563076932\nOptimization Finished!\nmodel saved to SETI/save/model.ckpt\n", 
                    "output_type": "stream"
                }
            ], 
            "source": "loss_values = []\nwith tf.Session() as sess:\n\n    \n    X_test = dataset.test.images\n    y_test = dataset.test.labels\n    sess.run(init)\n    saver = tf.train.Saver(tf.all_variables())\n    \n    # load previously trained model if appilcable\n    ckpt = tf.train.get_checkpoint_state(chk_directory)\n    if ckpt:\n        print \"loading model: \",ckpt.model_checkpoint_path\n        saver.restore(sess, ckpt.model_checkpoint_path)\n    \n    \n    #step = 0\n    num_examples = dataset.train.num_examples\n    # Training cycle\n    for epoch in range(training_epochs):\n        avg_loss = 0.\n        avg_accuracy = 0.\n        #dataset.shuffle_data()\n        total_batch = int(num_examples / batch_size)\n\n        # Loop over all batches\n        for step in range(total_batch):\n            start = time.time()\n            x_batch, y_batch = dataset.train.next_batch(batch_size,shuffle=True)\n            train_op.run(feed_dict={x: x_batch, y_: y_batch, keep_prob: dropout})\n            loss, acc = sess.run([cross_entropy, accuracy], feed_dict={x: x_batch,y_: y_batch,keep_prob: 1.})\n            \n            \n            end = time.time()\n            \n            avg_loss += loss / total_batch\n            avg_accuracy += acc / total_batch\n            if step % display_step == 1000:\n\n                \n                # Calculate batch loss and accuracy\n                loss, acc = sess.run([cross_entropy, accuracy], feed_dict={x: x_batch,y_: y_batch,keep_prob: 1.})\n                #train_accuracy = accuracy.eval(feed_dict={x:x_batch, y_: y_batch,  keep_prob: 0.5})\n\n                test_accuracy = sess.run(accuracy, feed_dict={x: X_test[0:100], y_: y_test[0:100], keep_prob: 1.})\n\n                print(\"Iter \" + str(step) + \\\n                    \", Training time= \" + \"{:.5f}\".format(end - start) + \\\n                    \", Minibatch Loss= \" +  \"{:.6f}\".format(loss) +  \\\n                    \", Training Accuracy= \" + \"{:.5f}\".format(acc)  + \\\n                    \", Test Accuracy= \" + \"{:.5f}\".format(test_accuracy) )\n        \n        # save model every 1 epochs\n        if epoch >= 0 and epoch % 1 == 0:\n            # Save model\n            #print (\"model saved to {}\".format(checkpoint_path))\n            #saver.save(sess, checkpoint_path, global_step = epoch)\n            plr = sess.run(lr)\n            loss_values.append(avg_loss)\n            #print(sess.run(tf.train.global_step()))\n            print \"Epoch:\", '%04d' % (epoch+1), \"lr=\", \"{:.9f}\".format(plr), \"cost=\", \"{:.9f}\".format(avg_loss) ,\"Acc=\", \"{:.9f}\".format(avg_accuracy)\n\n    print(\"Optimization Finished!\")\n    print (\"model saved to {}\".format(checkpoint_path))\n    saver.save(sess, checkpoint_path, global_step = (epoch+1)*step)\n\n    \n    \n    # Calculate accuracy for test images\n    #print(\"Testing Accuracy:\", sess.run(accuracy, feed_dict={x: X_test[0:30], y_: y_test[0:30], keep_prob: 1.}))\n        \n    # Find the labels of test set\n    y_pred_lb = sess.run(tf.argmax(y_CNN,1), feed_dict={x: X_test[0:100], y_: y_test[0:100], keep_prob: 1.})\n    y_pred = sess.run(y_CNN, feed_dict={x: X_test[0:100], y_: y_test[0:100], keep_prob: 1.})\n    \n    # lets save kernels\n    kernels_l1 = sess.run(tf.reshape(tf.transpose(W_conv1, perm=[2, 3, 0, 1]),[32,-1]))\n    kernels_l2 = sess.run(tf.reshape(tf.transpose(W_conv2, perm=[2, 3, 0, 1]),[32*64,-1]))", 
            "execution_count": 23, 
            "cell_type": "code", 
            "metadata": {
                "button": false, 
                "deletable": true, 
                "new_sheet": false, 
                "collapsed": false, 
                "run_control": {
                    "read_only": false
                }
            }
        }, 
        {
            "outputs": [
                {
                    "metadata": {}, 
                    "data": {
                        "text/plain": "<matplotlib.figure.Figure at 0x7f4b3dbaf550>", 
                        "image/png": "[encoded data removed]"
                    }, 
                    "output_type": "display_data"
                }
            ], 
            "source": "%matplotlib inline\nimport numpy as np\nimport matplotlib.pyplot as plt\nplt.plot([np.mean(loss_values[i:i+5]) for i in range(len(loss_values))])\nplt.show()\n", 
            "execution_count": 24, 
            "cell_type": "code", 
            "metadata": {
                "button": false, 
                "deletable": true, 
                "new_sheet": false, 
                "collapsed": false, 
                "run_control": {
                    "read_only": false
                }
            }
        }, 
        {
            "source": "## Evaluation", 
            "metadata": {
                "button": false, 
                "deletable": true, 
                "new_sheet": false, 
                "run_control": {
                    "read_only": false
                }
            }, 
            "cell_type": "markdown"
        }, 
        {
            "outputs": [
                {
                    "name": "stdout", 
                    "text": "             precision    recall  f1-score   support\n\n          0       0.00      0.00      0.00        25\n          1       0.00      0.00      0.00        28\n          2       0.30      1.00      0.46        23\n          3       1.00      1.00      1.00        24\n\navg / total       0.31      0.47      0.35       100\n\n[[ 0  0 25  0]\n [ 0  0 28  0]\n [ 0  0 23  0]\n [ 0  0  0 24]]\nClassification accuracy: 0.470000\nLog Loss: 0.972129\n", 
                    "output_type": "stream"
                }
            ], 
            "source": "y_ = np.argmax(y_test[0:100],1) # ground truth\nprint metrics.classification_report(y_true= y_, y_pred= y_pred_lb)\nprint metrics.confusion_matrix(y_true= y_, y_pred= y_pred_lb)\nprint(\"Classification accuracy: %0.6f\" % metrics.accuracy_score(y_true= y_, y_pred= y_pred_lb) )\nprint(\"Log Loss: %0.6f\" % metrics.log_loss(y_true= y_, y_pred= y_pred, labels=range(4)) )", 
            "execution_count": 35, 
            "cell_type": "code", 
            "metadata": {
                "button": false, 
                "deletable": true, 
                "new_sheet": false, 
                "collapsed": false, 
                "run_control": {
                    "read_only": false
                }
            }
        }, 
        {
            "source": "### Viz", 
            "metadata": {
                "button": false, 
                "deletable": true, 
                "new_sheet": false, 
                "run_control": {
                    "read_only": false
                }
            }, 
            "cell_type": "markdown"
        }, 
        {
            "outputs": [], 
            "source": "!wget --output-document utils1.py http://deeplearning.net/tutorial/code/utils.py\nimport utils1\nfrom utils1 import tile_raster_images", 
            "execution_count": null, 
            "cell_type": "code", 
            "metadata": {
                "button": false, 
                "deletable": true, 
                "new_sheet": false, 
                "collapsed": false, 
                "run_control": {
                    "read_only": false
                }
            }
        }, 
        {
            "outputs": [], 
            "source": "#from utils import tile_raster_images\nimport matplotlib.pyplot as plt\nfrom PIL import Image\n%matplotlib inline\nimage = Image.fromarray(tile_raster_images(kernels_l1, img_shape=(5, 5) ,tile_shape=(4, 8), tile_spacing=(1, 1)))\n### Plot image\nplt.rcParams['figure.figsize'] = (18.0, 18.0)\nimgplot = plt.imshow(image)\nimgplot.set_cmap('gray')  ", 
            "execution_count": null, 
            "cell_type": "code", 
            "metadata": {
                "button": false, 
                "deletable": true, 
                "new_sheet": false, 
                "collapsed": false, 
                "run_control": {
                    "read_only": false
                }
            }
        }, 
        {
            "outputs": [], 
            "source": "image = Image.fromarray(tile_raster_images(kernels_l2, img_shape=(5, 5) ,tile_shape=(4, 12), tile_spacing=(1, 1)))\n### Plot image\nplt.rcParams['figure.figsize'] = (18.0, 18.0)\nimgplot = plt.imshow(image)\nimgplot.set_cmap('gray')  ", 
            "execution_count": null, 
            "cell_type": "code", 
            "metadata": {
                "button": false, 
                "deletable": true, 
                "new_sheet": false, 
                "collapsed": false, 
                "run_control": {
                    "read_only": false
                }
            }
        }, 
        {
            "outputs": [], 
            "source": "import numpy as np\nplt.rcParams['figure.figsize'] = (5.0, 5.0)\nsampleimage1 = X_test[3]\nplt.imshow(np.reshape(sampleimage1,[64,128]), cmap=\"gray\")", 
            "execution_count": null, 
            "cell_type": "code", 
            "metadata": {
                "button": false, 
                "deletable": true, 
                "new_sheet": false, 
                "collapsed": false, 
                "run_control": {
                    "read_only": false
                }
            }
        }, 
        {
            "outputs": [], 
            "source": "# Launch the graph\nwith tf.Session() as sess:\n    sess.run(init)\n    saver = tf.train.Saver(tf.all_variables())\n    \n    # load previously trained model if appilcable\n    ckpt = tf.train.get_checkpoint_state(chk_directory)\n    if ckpt:\n        print \"loading model: \",ckpt.model_checkpoint_path\n        saver.restore(sess, ckpt.model_checkpoint_path)\n    ActivatedUnits1 = sess.run(convolve1,feed_dict={x:np.reshape(sampleimage1,[1,64*128],order='F'),keep_prob:1.0})\n    plt.figure(1, figsize=(20,20))\n    n_columns = 3\n    n_rows = 3\n    for i in range(9):\n        plt.subplot(n_rows, n_columns, i+1)\n        plt.title('Filter ' + str(i))\n        plt.imshow(ActivatedUnits1[0,:,:,i], interpolation=\"nearest\", cmap=\"gray\")", 
            "execution_count": null, 
            "cell_type": "code", 
            "metadata": {
                "button": false, 
                "deletable": true, 
                "new_sheet": false, 
                "collapsed": false, 
                "run_control": {
                    "read_only": false
                }
            }
        }, 
        {
            "source": "\n<h3>Authors:</h3>\n<article class=\"teacher\">\n<div class=\"teacher-image\" style=\"    float: left;\n    width: 115px;\n    height: 115px;\n    margin-right: 10px;\n    margin-bottom: 10px;\n    border: 1px solid #CCC;\n    padding: 3px;\n    border-radius: 3px;\n    text-align: center;\"><img class=\"alignnone wp-image-2258 \" src=\"https://ibm.box.com/shared/static/tyd41rlrnmfrrk78jx521eb73fljwvv0.jpg\" alt=\"Saeed Aghabozorgi\" width=\"178\" height=\"178\" /></div>\n<h4>Saeed Aghabozorgi</h4>\n<p><a href=\"https://ca.linkedin.com/in/saeedaghabozorgi\">Saeed Aghabozorgi</a>, PhD is Sr. Data Scientist in IBM with a track record of developing enterprise level applications that substantially increases clients\u2019 ability to turn data into actionable knowledge. He is a researcher in data mining field and expert in developing advanced analytic methods like machine learning and statistical modelling on large datasets.</p>\n</article>", 
            "metadata": {
                "button": false, 
                "deletable": true, 
                "new_sheet": false, 
                "collapsed": true, 
                "run_control": {
                    "read_only": false
                }
            }, 
            "cell_type": "markdown"
        }, 
        {
            "outputs": [], 
            "source": "", 
            "execution_count": null, 
            "cell_type": "code", 
            "metadata": {
                "collapsed": true
            }
        }
    ], 
    "nbformat_minor": 1
}