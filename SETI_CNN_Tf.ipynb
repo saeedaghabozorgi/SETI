{
    "nbformat": 4, 
    "cells": [
        {
            "cell_type": "markdown", 
            "metadata": {}, 
            "source": "# SETI CNN using TF and Binary DS"
        }, 
        {
            "cell_type": "code", 
            "execution_count": 1, 
            "metadata": {
                "collapsed": false
            }, 
            "source": "import requests\nimport json\n#import ibmseti\nimport numpy as np\nimport matplotlib.pyplot as plt\n%matplotlib inline\nimport tensorflow as tf\nimport pickle\nimport time\n#!sudo pip install sklearn\nfrom sklearn.metrics import confusion_matrix", 
            "outputs": []
        }, 
        {
            "cell_type": "markdown", 
            "metadata": {}, 
            "source": "### import dataset reader"
        }, 
        {
            "cell_type": "code", 
            "execution_count": 2, 
            "metadata": {
                "collapsed": false
            }, 
            "source": "!wget --output-document SETI.zip  https://ibm.box.com/shared/static/jhqdhcblhua5dx2t7ixwm88okitjrl6l.zip\n!unzip -o SETI.zip\nimport SETI", 
            "outputs": [
                {
                    "name": "stdout", 
                    "output_type": "stream", 
                    "text": "--2017-05-20 18:29:17--  https://ibm.box.com/shared/static/jhqdhcblhua5dx2t7ixwm88okitjrl6l.zip\nResolving ibm.box.com (ibm.box.com)... 107.152.27.197\nConnecting to ibm.box.com (ibm.box.com)|107.152.27.197|:443... connected.\nHTTP request sent, awaiting response... 301 Moved Permanently\nLocation: https://ibm.ent.box.com/shared/static/jhqdhcblhua5dx2t7ixwm88okitjrl6l.zip [following]\n--2017-05-20 18:29:18--  https://ibm.ent.box.com/shared/static/jhqdhcblhua5dx2t7ixwm88okitjrl6l.zip\nResolving ibm.ent.box.com (ibm.ent.box.com)... 107.152.27.211\nConnecting to ibm.ent.box.com (ibm.ent.box.com)|107.152.27.211|:443... connected.\nHTTP request sent, awaiting response... 302 Found\nLocation: https://public.boxcloud.com/d/1/UUAVgkHURnsZeHwZli3Emz0Hn2G5xGzLPOQJ3Cg0hmFnbRlUcQHQZlGvQGqos8slWPqki5hCVzEkivljMk70R0z5vTeu5D1_5TjGOW8lCECzmmUk5F9TNDVP95E90Ecm39EhmHkUKezjUumiBGtY7uVxRi_PFbQJzdvs_jPoaE4GqEEO4NRNCxxTYDrBI5S5NxhwBZTpyCKy-2z0AkEuJY5sWLzJH-QLQu5YFmOSVbXEEIzcLm-vchuWXadvWQIjCT1DyP2oLS9Ck2U1GvPIisReAJ2sebrz3EIkokVOyrSY6gCl-ztyhmvcM6TwoMtkVzGuAoPHxW1BNRKTZz8r6np-Mb8j67CpVMuz1jTkJOM_LIW9c1p4m6GhyOZ0_8Irl_y2Gas17_q0eSwALHrwJiDA-wmWReDTz8VLl8TRJXKq9-YUoa9F0pG84A-sMtDoxlKjDpfkaK_qx8mwxo6I3QBU44e3a437hVZreQw9rZFU4uoW5X6kUUbInMdxINEF5xk2OyLiTq78WZzgw1t5CYhX__FVbJvNMT1ydsCjTZT8fcJDfXOj1O0meYXkT7KUXO8wFdlb8gox9HPGSDOgC6n5HFy3_rk4dhP7ut3jiAgRaHPoh3H2N69-w5Svv-iACxOgI_yVyetGSocZIXddCTXhPic4UEsbeYOuy6UOHa9s2mF5BirLJBGILtUaYOJRad5kTCsdFLjUwDXODXp1eDkKonKY_aL9gjDIXFbSP6OjfRTb4skleWXnL52noOs2PlTAY-5dLef-qeuON_berEjXE5yeOv0uE_vSNrFUQ-weFyWnOMZNY26FtzZZE174FLuYDE8lhQ5pBfI8adiSx8UsuKV0wlisI2tbNigTK8cDOsNH5wiyHcZIh6ce73soZd4d1_FdiOK4rnW9IWNQDzjkOVJUKusQtzroh6HN1BLTzuSJfo0izDkrI7WEpJKPbDM4bF1njAOKBeWOn2IyM0qjc-oSH_iogaknBfmp_IwbuNuuNxejrhGlW6ei-E3myUw1xZ3AGZlLM7qTdT1GKzCSm32IZH5wvYDMfVFi08co6tByDgblUeuUt2EiW4Sy4xu3YRanpqSCHqxgBA0e5nIlGUmBLeOI8XD0QJhMH7BZuYRlsR4XUTBaZXEOexqvtzBE2U5eE0Kh8N4ysokAchFQnA../download [following]\n--2017-05-20 18:29:18--  https://public.boxcloud.com/d/1/UUAVgkHURnsZeHwZli3Emz0Hn2G5xGzLPOQJ3Cg0hmFnbRlUcQHQZlGvQGqos8slWPqki5hCVzEkivljMk70R0z5vTeu5D1_5TjGOW8lCECzmmUk5F9TNDVP95E90Ecm39EhmHkUKezjUumiBGtY7uVxRi_PFbQJzdvs_jPoaE4GqEEO4NRNCxxTYDrBI5S5NxhwBZTpyCKy-2z0AkEuJY5sWLzJH-QLQu5YFmOSVbXEEIzcLm-vchuWXadvWQIjCT1DyP2oLS9Ck2U1GvPIisReAJ2sebrz3EIkokVOyrSY6gCl-ztyhmvcM6TwoMtkVzGuAoPHxW1BNRKTZz8r6np-Mb8j67CpVMuz1jTkJOM_LIW9c1p4m6GhyOZ0_8Irl_y2Gas17_q0eSwALHrwJiDA-wmWReDTz8VLl8TRJXKq9-YUoa9F0pG84A-sMtDoxlKjDpfkaK_qx8mwxo6I3QBU44e3a437hVZreQw9rZFU4uoW5X6kUUbInMdxINEF5xk2OyLiTq78WZzgw1t5CYhX__FVbJvNMT1ydsCjTZT8fcJDfXOj1O0meYXkT7KUXO8wFdlb8gox9HPGSDOgC6n5HFy3_rk4dhP7ut3jiAgRaHPoh3H2N69-w5Svv-iACxOgI_yVyetGSocZIXddCTXhPic4UEsbeYOuy6UOHa9s2mF5BirLJBGILtUaYOJRad5kTCsdFLjUwDXODXp1eDkKonKY_aL9gjDIXFbSP6OjfRTb4skleWXnL52noOs2PlTAY-5dLef-qeuON_berEjXE5yeOv0uE_vSNrFUQ-weFyWnOMZNY26FtzZZE174FLuYDE8lhQ5pBfI8adiSx8UsuKV0wlisI2tbNigTK8cDOsNH5wiyHcZIh6ce73soZd4d1_FdiOK4rnW9IWNQDzjkOVJUKusQtzroh6HN1BLTzuSJfo0izDkrI7WEpJKPbDM4bF1njAOKBeWOn2IyM0qjc-oSH_iogaknBfmp_IwbuNuuNxejrhGlW6ei-E3myUw1xZ3AGZlLM7qTdT1GKzCSm32IZH5wvYDMfVFi08co6tByDgblUeuUt2EiW4Sy4xu3YRanpqSCHqxgBA0e5nIlGUmBLeOI8XD0QJhMH7BZuYRlsR4XUTBaZXEOexqvtzBE2U5eE0Kh8N4ysokAchFQnA../download\nResolving public.boxcloud.com (public.boxcloud.com)... 107.152.27.200\nConnecting to public.boxcloud.com (public.boxcloud.com)|107.152.27.200|:443... connected.\nHTTP request sent, awaiting response... 200 OK\nLength: 3288 (3.2K) [application/zip]\nSaving to: \u2018SETI.zip\u2019\n\n100%[======================================>] 3,288       --.-K/s   in 0s      \n\n2017-05-20 18:29:19 (234 MB/s) - \u2018SETI.zip\u2019 saved [3288/3288]\n\nArchive:  SETI.zip\n  inflating: SETI.py                 \n  inflating: __MACOSX/._SETI.py      \n"
                }
            ]
        }, 
        {
            "cell_type": "markdown", 
            "metadata": {}, 
            "source": "### Download data"
        }, 
        {
            "cell_type": "code", 
            "execution_count": 3, 
            "metadata": {
                "collapsed": false, 
                "scrolled": true
            }, 
            "source": "# The code was removed by DSX for sharing.", 
            "outputs": [
                {
                    "name": "stdout", 
                    "output_type": "stream", 
                    "text": "mkdir: cannot create directory \u2018SETI\u2019: File exists\n--2017-05-20 18:29:20--  https://ibm.box.com/shared/static/ww315shk648d3mt3ljbyl1jjte8nkmvj.gz\nResolving ibm.box.com (ibm.box.com)... 107.152.27.197\nConnecting to ibm.box.com (ibm.box.com)|107.152.27.197|:443... connected.\nHTTP request sent, awaiting response... 301 Moved Permanently\nLocation: https://ibm.ent.box.com/shared/static/ww315shk648d3mt3ljbyl1jjte8nkmvj.gz [following]\n--2017-05-20 18:29:20--  https://ibm.ent.box.com/shared/static/ww315shk648d3mt3ljbyl1jjte8nkmvj.gz\nResolving ibm.ent.box.com (ibm.ent.box.com)... 107.152.27.211\nConnecting to ibm.ent.box.com (ibm.ent.box.com)|107.152.27.211|:443... connected.\nHTTP request sent, awaiting response... 302 Found\nLocation: https://public.boxcloud.com/d/1/kymwvgV8yFhM88EZMyZP9v6HTTwfqwtJUDCMva0cdzBHkBgcSG_sqDItfhPFotw-Sc8meYFZkPgGbmZKyJhQXRiZTVtCOBZbZBzg-NhWY0pC8qQP0vRZBU48mDP4XYl-AMh9Flrofc5PjfX2GMtPJGFlDWiqEqHOk5S7b_Zd0Doyn8mttvAsVxW22l0owL3uz4ffNWtMG3wbtGSDlWzNLtBMw_6AzFSu04KMXjTiHW0s3m_ZCDGV0Eyqp7LRxjZs8uaPW_TV6ifNmHLND2SfyLyAvQGCebFKvtDtR7EOfuQ49cCv7dPhwgm1GA_LBiurhw7iwSJbAxURs4PHXp9vrxxegn1_wSIGtDkHf2wkSBsZyUd5SaY9NS1rHfnoqvJQJ87rHkEyBkB3aXkvSg0Dw8H4-HGrNrsjJie3wf4-JLUInymBbcUrzaebS4ubsL0dDXPmQaJ_1LgiDe9Wv73Ge2uPGM_5-DkPtSzOOtNXVbdYdV-8-L8zfQ_nzZ8queH4J5j9Kx__n8iIxmiWPodPsymvJJDGPf3Xsc6moPOMF4I-XmmwWqquuoVTaJbfiBUlVJYcasbKsNYik4KhQRDRHEINFPTdEUeQbEOMU2ESCnLaWxzi6wQfjlKv6foa_lAlSKFDhdMzx7SMhUMmDY-pVk4NWncVSGdAw9_KVuiv9QBPQ1hxnEqLvFEP8E3KxCZl9d3SGrdudUa1216bZweSPFc3Jj6Xsn9ELDtm084JRRZ4_9D7Vrx7-F-VCDeNpiZf0rQ9txQtWEKcMlFRvL-Gn7TorkRlUGwJwlO5y7YyBD2q_0VCJxDSa3ZMK4LrIXUPD_B6HoEBBNqX92J2_uTKulHIPI58oA4JXZCoq6hhKT6fmwFL1lNu9vhqZUKN75Mit5oFIa_mIL5Sfj1t4TxLnJ5vpCvWc6meR61rXYs24LGTBWdbxlYkH44S3J8VlN4UBKJ9mGow242t4Xi3eNWdwvUPX6oDRn_p6geCF43ubHSxIA976HvDlyHDvLj5YEk54MrUt5YZjPqAPxddq2Xf5c_0Nt3cH3iK3JAtuJWImxTQGXs7ut2FyPiN3vnZk8jiukTYY-Vf7lcnxpnKSciQJn2-RiI959xTG2JjOz605g39n7SbKZom3Q7060pemwXcBUArZWUL7pZAe1tKFsYAS5QXU1i9Pz0pkNc8-FebFNdqKSY./download [following]\n--2017-05-20 18:29:21--  https://public.boxcloud.com/d/1/kymwvgV8yFhM88EZMyZP9v6HTTwfqwtJUDCMva0cdzBHkBgcSG_sqDItfhPFotw-Sc8meYFZkPgGbmZKyJhQXRiZTVtCOBZbZBzg-NhWY0pC8qQP0vRZBU48mDP4XYl-AMh9Flrofc5PjfX2GMtPJGFlDWiqEqHOk5S7b_Zd0Doyn8mttvAsVxW22l0owL3uz4ffNWtMG3wbtGSDlWzNLtBMw_6AzFSu04KMXjTiHW0s3m_ZCDGV0Eyqp7LRxjZs8uaPW_TV6ifNmHLND2SfyLyAvQGCebFKvtDtR7EOfuQ49cCv7dPhwgm1GA_LBiurhw7iwSJbAxURs4PHXp9vrxxegn1_wSIGtDkHf2wkSBsZyUd5SaY9NS1rHfnoqvJQJ87rHkEyBkB3aXkvSg0Dw8H4-HGrNrsjJie3wf4-JLUInymBbcUrzaebS4ubsL0dDXPmQaJ_1LgiDe9Wv73Ge2uPGM_5-DkPtSzOOtNXVbdYdV-8-L8zfQ_nzZ8queH4J5j9Kx__n8iIxmiWPodPsymvJJDGPf3Xsc6moPOMF4I-XmmwWqquuoVTaJbfiBUlVJYcasbKsNYik4KhQRDRHEINFPTdEUeQbEOMU2ESCnLaWxzi6wQfjlKv6foa_lAlSKFDhdMzx7SMhUMmDY-pVk4NWncVSGdAw9_KVuiv9QBPQ1hxnEqLvFEP8E3KxCZl9d3SGrdudUa1216bZweSPFc3Jj6Xsn9ELDtm084JRRZ4_9D7Vrx7-F-VCDeNpiZf0rQ9txQtWEKcMlFRvL-Gn7TorkRlUGwJwlO5y7YyBD2q_0VCJxDSa3ZMK4LrIXUPD_B6HoEBBNqX92J2_uTKulHIPI58oA4JXZCoq6hhKT6fmwFL1lNu9vhqZUKN75Mit5oFIa_mIL5Sfj1t4TxLnJ5vpCvWc6meR61rXYs24LGTBWdbxlYkH44S3J8VlN4UBKJ9mGow242t4Xi3eNWdwvUPX6oDRn_p6geCF43ubHSxIA976HvDlyHDvLj5YEk54MrUt5YZjPqAPxddq2Xf5c_0Nt3cH3iK3JAtuJWImxTQGXs7ut2FyPiN3vnZk8jiukTYY-Vf7lcnxpnKSciQJn2-RiI959xTG2JjOz605g39n7SbKZom3Q7060pemwXcBUArZWUL7pZAe1tKFsYAS5QXU1i9Pz0pkNc8-FebFNdqKSY./download\nResolving public.boxcloud.com (public.boxcloud.com)... 107.152.27.200\nConnecting to public.boxcloud.com (public.boxcloud.com)|107.152.27.200|:443... connected.\nHTTP request sent, awaiting response... 200 OK\nLength: 46077318 (44M) [application/octet-stream]\nSaving to: \u2018SETI/SETIds8.tar.gz\u2019\n\n100%[======================================>] 46,077,318  21.0MB/s   in 2.1s   \n\n2017-05-20 18:29:24 (21.0 MB/s) - \u2018SETI/SETIds8.tar.gz\u2019 saved [46077318/46077318]\n\nSETI/SETIds8/\nSETI/SETIds8/test-labels-idx1-ubyte.gz\nSETI/SETIds8/test-images-idx3-ubyte.gz\nSETI/SETIds8/train-images-idx3-ubyte.gz\nSETI/SETIds8/train-labels-idx1-ubyte.gz\n"
                }
            ]
        }, 
        {
            "cell_type": "markdown", 
            "metadata": {}, 
            "source": "### Load data"
        }, 
        {
            "cell_type": "code", 
            "execution_count": 38, 
            "metadata": {
                "collapsed": false
            }, 
            "source": "from tensorflow.examples.tutorials.mnist import input_data\ndataset = input_data.read_data_sets(\"MNIST_data/\", one_hot=True)", 
            "outputs": [
                {
                    "name": "stdout", 
                    "output_type": "stream", 
                    "text": "Extracting MNIST_data/train-images-idx3-ubyte.gz\nExtracting MNIST_data/train-labels-idx1-ubyte.gz\nExtracting MNIST_data/t10k-images-idx3-ubyte.gz\nExtracting MNIST_data/t10k-labels-idx1-ubyte.gz\n"
                }
            ]
        }, 
        {
            "cell_type": "code", 
            "execution_count": 6, 
            "metadata": {
                "collapsed": false
            }, 
            "source": "!ls SETI/SETI_ds_256x2048/", 
            "outputs": [
                {
                    "name": "stdout", 
                    "output_type": "stream", 
                    "text": "test-images-idx3-ubyte.gz  train-images-idx3-ubyte.gz\r\ntest-labels-idx1-ubyte.gz  train-labels-idx1-ubyte.gz\r\n"
                }
            ]
        }, 
        {
            "cell_type": "code", 
            "execution_count": 8, 
            "metadata": {
                "collapsed": false
            }, 
            "source": "dataset = SETI.read_data_sets('SETI/SETI_ds_256x2048/', one_hot=True, validation_size=0)\ndataset.train.num_examples", 
            "outputs": [
                {
                    "name": "stdout", 
                    "output_type": "stream", 
                    "text": "Extracting SETI/SETI_ds_256x2048/train-images-idx3-ubyte.gz\nExtracting SETI/SETI_ds_256x2048/train-labels-idx1-ubyte.gz\nExtracting SETI/SETI_ds_256x2048/test-images-idx3-ubyte.gz\nExtracting SETI/SETI_ds_256x2048/test-labels-idx1-ubyte.gz\n"
                }, 
                {
                    "data": {
                        "text/plain": "694"
                    }, 
                    "execution_count": 8, 
                    "metadata": {}, 
                    "output_type": "execute_result"
                }
            ]
        }, 
        {
            "cell_type": "code", 
            "execution_count": 10, 
            "metadata": {
                "collapsed": false
            }, 
            "source": "dataset.train.images.shape", 
            "outputs": [
                {
                    "data": {
                        "text/plain": "(694, 524288)"
                    }, 
                    "execution_count": 10, 
                    "metadata": {}, 
                    "output_type": "execute_result"
                }
            ]
        }, 
        {
            "cell_type": "markdown", 
            "metadata": {
                "collapsed": false
            }, 
            "source": "## CNN"
        }, 
        {
            "cell_type": "code", 
            "execution_count": 11, 
            "metadata": {
                "collapsed": true
            }, 
            "source": "# Parameters\nlearning_rate = 0.001\nmax_training_iters = 500\nbatch_size = 128\ndisplay_step = 10\n\n# Network Parameters\n\nn_classes = 4 # number of possible classifications for the problem\ndropout = 0.75 # Dropout, probability to keep units\n\nheight = 256 # height of the image in pixels -- 128\nwidth = 2048 # width of the image in pixels -- 1536\nn_input = width * height # number of pixels in one image  -196608\n", 
            "outputs": []
        }, 
        {
            "cell_type": "code", 
            "execution_count": 12, 
            "metadata": {
                "collapsed": false
            }, 
            "source": "x  = tf.placeholder(tf.float32, shape=[None, n_input])\ny_ = tf.placeholder(tf.float32, shape=[None, n_classes])", 
            "outputs": []
        }, 
        {
            "cell_type": "code", 
            "execution_count": 13, 
            "metadata": {
                "collapsed": false
            }, 
            "source": "x_image = tf.reshape(x, [-1,height,width,1]) \nx_image", 
            "outputs": [
                {
                    "data": {
                        "text/plain": "<tf.Tensor 'Reshape:0' shape=(?, 256, 2048, 1) dtype=float32>"
                    }, 
                    "execution_count": 13, 
                    "metadata": {}, 
                    "output_type": "execute_result"
                }
            ]
        }, 
        {
            "cell_type": "markdown", 
            "metadata": {}, 
            "source": "#### Convolutional Layer 1"
        }, 
        {
            "cell_type": "code", 
            "execution_count": 14, 
            "metadata": {
                "collapsed": false
            }, 
            "source": "W_conv1 = tf.Variable(tf.truncated_normal([5, 5, 1, 32], stddev=0.1))\nb_conv1 = tf.Variable(tf.constant(0.1, shape=[32])) # need 32 biases for 32 outputs\nconvolve1= tf.nn.conv2d(x_image, W_conv1, strides=[1, 1, 1, 1], padding='SAME') + b_conv1\nh_conv1 = tf.nn.relu(convolve1)\nh_pool1 = tf.nn.max_pool(h_conv1, ksize=[1, 2, 2, 1], strides=[1, 2, 2, 1], padding='SAME') #max_pool_2x2\nlayer1= h_pool1\nlayer1", 
            "outputs": [
                {
                    "data": {
                        "text/plain": "<tf.Tensor 'MaxPool:0' shape=(?, 128, 1024, 32) dtype=float32>"
                    }, 
                    "execution_count": 14, 
                    "metadata": {}, 
                    "output_type": "execute_result"
                }
            ]
        }, 
        {
            "cell_type": "markdown", 
            "metadata": {}, 
            "source": "#### Convolutional Layer 2"
        }, 
        {
            "cell_type": "code", 
            "execution_count": 15, 
            "metadata": {
                "collapsed": false
            }, 
            "source": "W_conv2 = tf.Variable(tf.truncated_normal([5, 5, 32, 64], stddev=0.1))\nb_conv2 = tf.Variable(tf.constant(0.1, shape=[64])) #need 64 biases for 64 outputs\nconvolve2= tf.nn.conv2d(layer1, W_conv2, strides=[1, 1, 1, 1], padding='SAME')+ b_conv2\nh_conv2 = tf.nn.relu(convolve2)\nh_pool2 = tf.nn.max_pool(h_conv2, ksize=[1, 2, 2, 1], strides=[1, 2, 2, 1], padding='SAME') #max_pool_2x2\nlayer2= h_pool2\nlayer2", 
            "outputs": [
                {
                    "data": {
                        "text/plain": "<tf.Tensor 'MaxPool_1:0' shape=(?, 64, 512, 64) dtype=float32>"
                    }, 
                    "execution_count": 15, 
                    "metadata": {}, 
                    "output_type": "execute_result"
                }
            ]
        }, 
        {
            "cell_type": "markdown", 
            "metadata": {}, 
            "source": "#### Convolutional Layer 3"
        }, 
        {
            "cell_type": "code", 
            "execution_count": 18, 
            "metadata": {
                "collapsed": false
            }, 
            "source": "W_conv3 = tf.Variable(tf.truncated_normal([5, 5, 64, 128], stddev=0.1))\nb_conv3 = tf.Variable(tf.constant(0.1, shape=[128])) #need 64 biases for 64 outputs\nconvolve3= tf.nn.conv2d(layer2, W_conv3, strides=[1, 1, 1, 1], padding='SAME')+ b_conv3\nh_conv3 = tf.nn.relu(convolve3)\nh_pool3 = tf.nn.max_pool(h_conv3, ksize=[1, 2, 2, 1], strides=[1, 2, 2, 1], padding='SAME') #max_pool_2x2\nlayer3= h_pool3\nlayer3", 
            "outputs": [
                {
                    "data": {
                        "text/plain": "<tf.Tensor 'MaxPool_2:0' shape=(?, 32, 256, 128) dtype=float32>"
                    }, 
                    "execution_count": 18, 
                    "metadata": {}, 
                    "output_type": "execute_result"
                }
            ]
        }, 
        {
            "cell_type": "markdown", 
            "metadata": {}, 
            "source": "#### Convolutional Layer 4"
        }, 
        {
            "cell_type": "code", 
            "execution_count": null, 
            "metadata": {
                "collapsed": true
            }, 
            "source": "W_conv3 = tf.Variable(tf.truncated_normal([5, 5, 128, 258], stddev=0.1))\nb_conv3 = tf.Variable(tf.constant(0.1, shape=[256])) #need 64 biases for 64 outputs\nconvolve3= tf.nn.conv2d(layer2, W_conv3, strides=[1, 1, 1, 1], padding='SAME')+ b_conv3\nh_conv3 = tf.nn.relu(convolve3)\nh_pool3 = tf.nn.max_pool(h_conv3, ksize=[1, 2, 2, 1], strides=[1, 2, 2, 1], padding='SAME') #max_pool_2x2\nlayer3= h_pool3\nlayer3", 
            "outputs": []
        }, 
        {
            "cell_type": "markdown", 
            "metadata": {}, 
            "source": "#### Fully Connected Layer"
        }, 
        {
            "cell_type": "code", 
            "execution_count": 23, 
            "metadata": {
                "collapsed": false
            }, 
            "source": "input_layer = layer3\ndim = input_layer.get_shape().as_list()\ndim", 
            "outputs": [
                {
                    "data": {
                        "text/plain": "[None, 32, 256, 128]"
                    }, 
                    "execution_count": 23, 
                    "metadata": {}, 
                    "output_type": "execute_result"
                }
            ]
        }, 
        {
            "cell_type": "code", 
            "execution_count": null, 
            "metadata": {
                "collapsed": true
            }, 
            "source": "1048576", 
            "outputs": []
        }, 
        {
            "cell_type": "code", 
            "execution_count": 24, 
            "metadata": {
                "collapsed": false
            }, 
            "source": "dims= dim[1]*dim[2]*dim[3]\nprv_layer_matrix = tf.reshape(input_layer, [-1, dims])\nW_fc1 = tf.Variable(tf.truncated_normal([dims, 1024], stddev=0.1))\nb_fc1 = tf.Variable(tf.constant(0.1, shape=[1024])) # need 1024 biases for 1024 outputs\nfcl1  = tf.matmul(prv_layer_matrix, W_fc1) + b_fc1\nh_fc1 = tf.nn.relu(fcl1) # ???\nh_fc1\n", 
            "outputs": [
                {
                    "data": {
                        "text/plain": "<tf.Tensor 'Relu_4:0' shape=(?, 1024) dtype=float32>"
                    }, 
                    "execution_count": 24, 
                    "metadata": {}, 
                    "output_type": "execute_result"
                }
            ]
        }, 
        {
            "cell_type": "code", 
            "execution_count": 25, 
            "metadata": {
                "collapsed": false
            }, 
            "source": "keep_prob = tf.placeholder(tf.float32)\nlayer_drop = tf.nn.dropout(h_fc1, keep_prob)", 
            "outputs": []
        }, 
        {
            "cell_type": "markdown", 
            "metadata": {}, 
            "source": "#### Classification Layer"
        }, 
        {
            "cell_type": "code", 
            "execution_count": 26, 
            "metadata": {
                "collapsed": true
            }, 
            "source": "W_fc2 = tf.Variable(tf.truncated_normal([1024, n_classes], stddev=0.1)) #1024 neurons\nb_fc2 = tf.Variable(tf.constant(0.1, shape=[n_classes])) # 10 possibilities for classes [0,1,2,3]\nfcl2 = tf.matmul(layer_drop, W_fc2) + b_fc2\ny_CNN= tf.nn.softmax(fcl2)", 
            "outputs": []
        }, 
        {
            "cell_type": "markdown", 
            "metadata": {}, 
            "source": "#### Training\n"
        }, 
        {
            "cell_type": "code", 
            "execution_count": 27, 
            "metadata": {
                "collapsed": false
            }, 
            "source": "#cross_entropy = tf.reduce_mean(-tf.reduce_sum(y_ * tf.log(y_l4_conv), reduction_indices=[1]))\ncross_entropy = tf.reduce_mean(tf.nn.softmax_cross_entropy_with_logits(logits=y_CNN, labels=y_))\ntrain_step = tf.train.AdamOptimizer(learning_rate=learning_rate).minimize(cross_entropy)", 
            "outputs": []
        }, 
        {
            "cell_type": "code", 
            "execution_count": 28, 
            "metadata": {
                "collapsed": true
            }, 
            "source": "correct_prediction = tf.equal(tf.argmax(y_CNN,1), tf.argmax(y_,1))\naccuracy = tf.reduce_mean(tf.cast(correct_prediction, tf.float32))", 
            "outputs": []
        }, 
        {
            "cell_type": "code", 
            "execution_count": 29, 
            "metadata": {
                "collapsed": false
            }, 
            "source": "# Initializing the variables\ninit = tf.initialize_all_variables()\n", 
            "outputs": []
        }, 
        {
            "cell_type": "code", 
            "execution_count": 30, 
            "metadata": {
                "collapsed": false
            }, 
            "source": "# Launch the graph\nwith tf.Session() as sess:\n    X_test = dataset.test.images\n    y_test = dataset.test.labels\n    sess.run(init)\n    step = 1\n    while step < max_training_iters:\n    # Keep training until reach max iterations\n        \n        start = time.time()\n\n        x_batch, y_batch = dataset.train.next_batch(batch_size)\n        # Run optimization op (backprop)\n        #sess.run(optimizer, feed_dict={x: batch_x, y: batch_y, keep_prob: dropout})\n        train_step.run(feed_dict={x: x_batch, y_: y_batch, keep_prob: dropout})\n\n        end = time.time()\n\n        if step % display_step == 0:\n            # Calculate batch loss and accuracy\n            loss, acc = sess.run([cross_entropy, accuracy], feed_dict={x: x_batch,y_: y_batch,keep_prob: 1.})\n            #train_accuracy = accuracy.eval(feed_dict={x:x_batch, y_: y_batch,  keep_prob: 0.5})\n            \n            \n            test_accuracy = sess.run(accuracy, feed_dict={x: X_test, y_: y_test, keep_prob: 1.})\n            \n            print(\"Iter \" + str(step) + \\\n                \", Training time= \" + \"{:.5f}\".format(end - start) + \\\n                \", Minibatch Loss= \" +  \"{:.6f}\".format(loss) +  \\\n                \", Training Accuracy= \" + \"{:.5f}\".format(acc)  + \\\n                \", Test Accuracy= \" + \"{:.5f}\".format(test_accuracy) )\n        step += 1\n    print(\"Optimization Finished!\")\n    \n    \n    \n    # Calculate accuracy for test images\n    print(\"Testing Accuracy:\", sess.run(accuracy, feed_dict={x: X_test, y_: y_test, keep_prob: 1.}))\n        \n    # Find the labels of test set\n    y = sess.run(tf.argmax(y_l4_conv,1), feed_dict={x: X_test, y_: y_test, keep_prob: 1.})\n    \n    # lets save kernels\n    #kernels_l1 = sess.run(tf.reshape(tf.transpose(W_conv1, perm=[2, 3, 0, 1]),[32,-1]))\n    #kernels_l2 = sess.run(tf.reshape(tf.transpose(W_conv2, perm=[2, 3, 0, 1]),[32*64,-1]))", 
            "outputs": [
                {
                    "output_type": "error", 
                    "traceback": [
                        "\u001b[1;31m\u001b[0m", 
                        "\u001b[1;31mResourceExhaustedError\u001b[0mTraceback (most recent call last)", 
                        "\u001b[1;32m<ipython-input-30-bfbb3e54a59f>\u001b[0m in \u001b[0;36m<module>\u001b[1;34m()\u001b[0m\n\u001b[0;32m      3\u001b[0m     \u001b[0mX_test\u001b[0m \u001b[1;33m=\u001b[0m \u001b[0mdataset\u001b[0m\u001b[1;33m.\u001b[0m\u001b[0mtest\u001b[0m\u001b[1;33m.\u001b[0m\u001b[0mimages\u001b[0m\u001b[1;33m\u001b[0m\u001b[0m\n\u001b[0;32m      4\u001b[0m     \u001b[0my_test\u001b[0m \u001b[1;33m=\u001b[0m \u001b[0mdataset\u001b[0m\u001b[1;33m.\u001b[0m\u001b[0mtest\u001b[0m\u001b[1;33m.\u001b[0m\u001b[0mlabels\u001b[0m\u001b[1;33m\u001b[0m\u001b[0m\n\u001b[1;32m----> 5\u001b[1;33m     \u001b[0msess\u001b[0m\u001b[1;33m.\u001b[0m\u001b[0mrun\u001b[0m\u001b[1;33m(\u001b[0m\u001b[0minit\u001b[0m\u001b[1;33m)\u001b[0m\u001b[1;33m\u001b[0m\u001b[0m\n\u001b[0m\u001b[0;32m      6\u001b[0m     \u001b[0mstep\u001b[0m \u001b[1;33m=\u001b[0m \u001b[1;36m1\u001b[0m\u001b[1;33m\u001b[0m\u001b[0m\n\u001b[0;32m      7\u001b[0m     \u001b[1;32mwhile\u001b[0m \u001b[0mstep\u001b[0m \u001b[1;33m<\u001b[0m \u001b[0mmax_training_iters\u001b[0m\u001b[1;33m:\u001b[0m\u001b[1;33m\u001b[0m\u001b[0m\n", 
                        "\u001b[1;32m/usr/local/src/bluemix_jupyter_bundle.v44/notebook/lib/python2.7/site-packages/tensorflow/python/client/session.pyc\u001b[0m in \u001b[0;36mrun\u001b[1;34m(self, fetches, feed_dict, options, run_metadata)\u001b[0m\n\u001b[0;32m    370\u001b[0m     \u001b[1;32mtry\u001b[0m\u001b[1;33m:\u001b[0m\u001b[1;33m\u001b[0m\u001b[0m\n\u001b[0;32m    371\u001b[0m       result = self._run(None, fetches, feed_dict, options_ptr,\n\u001b[1;32m--> 372\u001b[1;33m                          run_metadata_ptr)\n\u001b[0m\u001b[0;32m    373\u001b[0m       \u001b[1;32mif\u001b[0m \u001b[0mrun_metadata\u001b[0m\u001b[1;33m:\u001b[0m\u001b[1;33m\u001b[0m\u001b[0m\n\u001b[0;32m    374\u001b[0m         \u001b[0mproto_data\u001b[0m \u001b[1;33m=\u001b[0m \u001b[0mtf_session\u001b[0m\u001b[1;33m.\u001b[0m\u001b[0mTF_GetBuffer\u001b[0m\u001b[1;33m(\u001b[0m\u001b[0mrun_metadata_ptr\u001b[0m\u001b[1;33m)\u001b[0m\u001b[1;33m\u001b[0m\u001b[0m\n", 
                        "\u001b[1;32m/usr/local/src/bluemix_jupyter_bundle.v44/notebook/lib/python2.7/site-packages/tensorflow/python/client/session.pyc\u001b[0m in \u001b[0;36m_run\u001b[1;34m(self, handle, fetches, feed_dict, options, run_metadata)\u001b[0m\n\u001b[0;32m    634\u001b[0m     \u001b[1;32mtry\u001b[0m\u001b[1;33m:\u001b[0m\u001b[1;33m\u001b[0m\u001b[0m\n\u001b[0;32m    635\u001b[0m       results = self._do_run(handle, target_list, unique_fetches,\n\u001b[1;32m--> 636\u001b[1;33m                              feed_dict_string, options, run_metadata)\n\u001b[0m\u001b[0;32m    637\u001b[0m     \u001b[1;32mfinally\u001b[0m\u001b[1;33m:\u001b[0m\u001b[1;33m\u001b[0m\u001b[0m\n\u001b[0;32m    638\u001b[0m       \u001b[1;31m# The movers are no longer used. Delete them.\u001b[0m\u001b[1;33m\u001b[0m\u001b[1;33m\u001b[0m\u001b[0m\n", 
                        "\u001b[1;32m/usr/local/src/bluemix_jupyter_bundle.v44/notebook/lib/python2.7/site-packages/tensorflow/python/client/session.pyc\u001b[0m in \u001b[0;36m_do_run\u001b[1;34m(self, handle, target_list, fetch_list, feed_dict, options, run_metadata)\u001b[0m\n\u001b[0;32m    706\u001b[0m     \u001b[1;32mif\u001b[0m \u001b[0mhandle\u001b[0m \u001b[1;32mis\u001b[0m \u001b[0mNone\u001b[0m\u001b[1;33m:\u001b[0m\u001b[1;33m\u001b[0m\u001b[0m\n\u001b[0;32m    707\u001b[0m       return self._do_call(_run_fn, self._session, feed_dict, fetch_list,\n\u001b[1;32m--> 708\u001b[1;33m                            target_list, options, run_metadata)\n\u001b[0m\u001b[0;32m    709\u001b[0m     \u001b[1;32melse\u001b[0m\u001b[1;33m:\u001b[0m\u001b[1;33m\u001b[0m\u001b[0m\n\u001b[0;32m    710\u001b[0m       return self._do_call(_prun_fn, self._session, handle, feed_dict,\n", 
                        "\u001b[1;32m/usr/local/src/bluemix_jupyter_bundle.v44/notebook/lib/python2.7/site-packages/tensorflow/python/client/session.pyc\u001b[0m in \u001b[0;36m_do_call\u001b[1;34m(self, fn, *args)\u001b[0m\n\u001b[0;32m    726\u001b[0m         \u001b[1;32mexcept\u001b[0m \u001b[0mKeyError\u001b[0m\u001b[1;33m:\u001b[0m\u001b[1;33m\u001b[0m\u001b[0m\n\u001b[0;32m    727\u001b[0m           \u001b[1;32mpass\u001b[0m\u001b[1;33m\u001b[0m\u001b[0m\n\u001b[1;32m--> 728\u001b[1;33m       \u001b[1;32mraise\u001b[0m \u001b[0mtype\u001b[0m\u001b[1;33m(\u001b[0m\u001b[0me\u001b[0m\u001b[1;33m)\u001b[0m\u001b[1;33m(\u001b[0m\u001b[0mnode_def\u001b[0m\u001b[1;33m,\u001b[0m \u001b[0mop\u001b[0m\u001b[1;33m,\u001b[0m \u001b[0mmessage\u001b[0m\u001b[1;33m)\u001b[0m\u001b[1;33m\u001b[0m\u001b[0m\n\u001b[0m\u001b[0;32m    729\u001b[0m \u001b[1;33m\u001b[0m\u001b[0m\n\u001b[0;32m    730\u001b[0m   \u001b[1;32mdef\u001b[0m \u001b[0m_extend_graph\u001b[0m\u001b[1;33m(\u001b[0m\u001b[0mself\u001b[0m\u001b[1;33m)\u001b[0m\u001b[1;33m:\u001b[0m\u001b[1;33m\u001b[0m\u001b[0m\n", 
                        "\u001b[1;31mResourceExhaustedError\u001b[0m: OOM when allocating tensor with shape[1048576,1024]\n\t [[Node: Variable_8/Adam_1/Assign = Assign[T=DT_FLOAT, _class=[\"loc:@Variable_8\"], use_locking=true, validate_shape=true, _device=\"/job:localhost/replica:0/task:0/cpu:0\"](Variable_8/Adam_1, zeros_13)]]\nCaused by op u'Variable_8/Adam_1/Assign', defined at:\n  File \"/usr/local/src/bluemix_jupyter_bundle.v44/notebook/lib/python2.7/runpy.py\", line 162, in _run_module_as_main\n    \"__main__\", fname, loader, pkg_name)\n  File \"/usr/local/src/bluemix_jupyter_bundle.v44/notebook/lib/python2.7/runpy.py\", line 72, in _run_code\n    exec code in run_globals\n  File \"/usr/local/src/bluemix_jupyter_bundle.v44/notebook/lib/python2.7/site-packages/ipykernel/__main__.py\", line 3, in <module>\n    app.launch_new_instance()\n  File \"/usr/local/src/bluemix_jupyter_bundle.v44/notebook/lib/python2.7/site-packages/traitlets/config/application.py\", line 596, in launch_instance\n    app.start()\n  File \"/usr/local/src/bluemix_jupyter_bundle.v44/notebook/lib/python2.7/site-packages/ipykernel/kernelapp.py\", line 442, in start\n    ioloop.IOLoop.instance().start()\n  File \"/usr/local/src/bluemix_jupyter_bundle.v44/notebook/lib/python2.7/site-packages/zmq/eventloop/ioloop.py\", line 162, in start\n    super(ZMQIOLoop, self).start()\n  File \"/usr/local/src/bluemix_jupyter_bundle.v44/notebook/lib/python2.7/site-packages/tornado/ioloop.py\", line 883, in start\n    handler_func(fd_obj, events)\n  File \"/usr/local/src/bluemix_jupyter_bundle.v44/notebook/lib/python2.7/site-packages/tornado/stack_context.py\", line 275, in null_wrapper\n    return fn(*args, **kwargs)\n  File \"/usr/local/src/bluemix_jupyter_bundle.v44/notebook/lib/python2.7/site-packages/zmq/eventloop/zmqstream.py\", line 440, in _handle_events\n    self._handle_recv()\n  File \"/usr/local/src/bluemix_jupyter_bundle.v44/notebook/lib/python2.7/site-packages/zmq/eventloop/zmqstream.py\", line 472, in _handle_recv\n    self._run_callback(callback, msg)\n  File \"/usr/local/src/bluemix_jupyter_bundle.v44/notebook/lib/python2.7/site-packages/zmq/eventloop/zmqstream.py\", line 414, in _run_callback\n    callback(*args, **kwargs)\n  File \"/usr/local/src/bluemix_jupyter_bundle.v44/notebook/lib/python2.7/site-packages/tornado/stack_context.py\", line 275, in null_wrapper\n    return fn(*args, **kwargs)\n  File \"/usr/local/src/bluemix_jupyter_bundle.v44/notebook/lib/python2.7/site-packages/ipykernel/kernelbase.py\", line 276, in dispatcher\n    return self.dispatch_shell(stream, msg)\n  File \"/usr/local/src/bluemix_jupyter_bundle.v44/notebook/lib/python2.7/site-packages/ipykernel/kernelbase.py\", line 228, in dispatch_shell\n    handler(stream, idents, msg)\n  File \"/usr/local/src/bluemix_jupyter_bundle.v44/notebook/lib/python2.7/site-packages/ipykernel/kernelbase.py\", line 391, in execute_request\n    user_expressions, allow_stdin)\n  File \"/usr/local/src/bluemix_jupyter_bundle.v44/notebook/lib/python2.7/site-packages/ipykernel/ipkernel.py\", line 199, in do_execute\n    shell.run_cell(code, store_history=store_history, silent=silent)\n  File \"/usr/local/src/bluemix_jupyter_bundle.v44/notebook/lib/python2.7/site-packages/IPython/core/interactiveshell.py\", line 2723, in run_cell\n    interactivity=interactivity, compiler=compiler, result=result)\n  File \"/usr/local/src/bluemix_jupyter_bundle.v44/notebook/lib/python2.7/site-packages/IPython/core/interactiveshell.py\", line 2825, in run_ast_nodes\n    if self.run_code(code, result):\n  File \"/usr/local/src/bluemix_jupyter_bundle.v44/notebook/lib/python2.7/site-packages/IPython/core/interactiveshell.py\", line 2885, in run_code\n    exec(code_obj, self.user_global_ns, self.user_ns)\n  File \"<ipython-input-27-d209d373e0f3>\", line 3, in <module>\n    train_step = tf.train.AdamOptimizer(learning_rate=learning_rate).minimize(cross_entropy)\n  File \"/usr/local/src/bluemix_jupyter_bundle.v44/notebook/lib/python2.7/site-packages/tensorflow/python/training/optimizer.py\", line 195, in minimize\n    name=name)\n  File \"/usr/local/src/bluemix_jupyter_bundle.v44/notebook/lib/python2.7/site-packages/tensorflow/python/training/optimizer.py\", line 297, in apply_gradients\n    self._create_slots(var_list)\n  File \"/usr/local/src/bluemix_jupyter_bundle.v44/notebook/lib/python2.7/site-packages/tensorflow/python/training/adam.py\", line 115, in _create_slots\n    self._zeros_slot(v, \"v\", self._name)\n  File \"/usr/local/src/bluemix_jupyter_bundle.v44/notebook/lib/python2.7/site-packages/tensorflow/python/training/optimizer.py\", line 491, in _zeros_slot\n    named_slots[var] = slot_creator.create_zeros_slot(var, op_name)\n  File \"/usr/local/src/bluemix_jupyter_bundle.v44/notebook/lib/python2.7/site-packages/tensorflow/python/training/slot_creator.py\", line 108, in create_zeros_slot\n    colocate_with_primary=colocate_with_primary)\n  File \"/usr/local/src/bluemix_jupyter_bundle.v44/notebook/lib/python2.7/site-packages/tensorflow/python/training/slot_creator.py\", line 86, in create_slot\n    return _create_slot_var(primary, val, scope)\n  File \"/usr/local/src/bluemix_jupyter_bundle.v44/notebook/lib/python2.7/site-packages/tensorflow/python/training/slot_creator.py\", line 50, in _create_slot_var\n    slot = variables.Variable(val, name=scope, trainable=False)\n  File \"/usr/local/src/bluemix_jupyter_bundle.v44/notebook/lib/python2.7/site-packages/tensorflow/python/ops/variables.py\", line 211, in __init__\n    dtype=dtype)\n  File \"/usr/local/src/bluemix_jupyter_bundle.v44/notebook/lib/python2.7/site-packages/tensorflow/python/ops/variables.py\", line 309, in _init_from_args\n    validate_shape=validate_shape).op\n  File \"/usr/local/src/bluemix_jupyter_bundle.v44/notebook/lib/python2.7/site-packages/tensorflow/python/ops/gen_state_ops.py\", line 45, in assign\n    use_locking=use_locking, name=name)\n  File \"/usr/local/src/bluemix_jupyter_bundle.v44/notebook/lib/python2.7/site-packages/tensorflow/python/ops/op_def_library.py\", line 704, in apply_op\n    op_def=op_def)\n  File \"/usr/local/src/bluemix_jupyter_bundle.v44/notebook/lib/python2.7/site-packages/tensorflow/python/framework/ops.py\", line 2260, in create_op\n    original_op=self._default_original_op, op_def=op_def)\n  File \"/usr/local/src/bluemix_jupyter_bundle.v44/notebook/lib/python2.7/site-packages/tensorflow/python/framework/ops.py\", line 1230, in __init__\n    self._traceback = _extract_stack()\n"
                    ], 
                    "ename": "ResourceExhaustedError", 
                    "evalue": "OOM when allocating tensor with shape[1048576,1024]\n\t [[Node: Variable_8/Adam_1/Assign = Assign[T=DT_FLOAT, _class=[\"loc:@Variable_8\"], use_locking=true, validate_shape=true, _device=\"/job:localhost/replica:0/task:0/cpu:0\"](Variable_8/Adam_1, zeros_13)]]\nCaused by op u'Variable_8/Adam_1/Assign', defined at:\n  File \"/usr/local/src/bluemix_jupyter_bundle.v44/notebook/lib/python2.7/runpy.py\", line 162, in _run_module_as_main\n    \"__main__\", fname, loader, pkg_name)\n  File \"/usr/local/src/bluemix_jupyter_bundle.v44/notebook/lib/python2.7/runpy.py\", line 72, in _run_code\n    exec code in run_globals\n  File \"/usr/local/src/bluemix_jupyter_bundle.v44/notebook/lib/python2.7/site-packages/ipykernel/__main__.py\", line 3, in <module>\n    app.launch_new_instance()\n  File \"/usr/local/src/bluemix_jupyter_bundle.v44/notebook/lib/python2.7/site-packages/traitlets/config/application.py\", line 596, in launch_instance\n    app.start()\n  File \"/usr/local/src/bluemix_jupyter_bundle.v44/notebook/lib/python2.7/site-packages/ipykernel/kernelapp.py\", line 442, in start\n    ioloop.IOLoop.instance().start()\n  File \"/usr/local/src/bluemix_jupyter_bundle.v44/notebook/lib/python2.7/site-packages/zmq/eventloop/ioloop.py\", line 162, in start\n    super(ZMQIOLoop, self).start()\n  File \"/usr/local/src/bluemix_jupyter_bundle.v44/notebook/lib/python2.7/site-packages/tornado/ioloop.py\", line 883, in start\n    handler_func(fd_obj, events)\n  File \"/usr/local/src/bluemix_jupyter_bundle.v44/notebook/lib/python2.7/site-packages/tornado/stack_context.py\", line 275, in null_wrapper\n    return fn(*args, **kwargs)\n  File \"/usr/local/src/bluemix_jupyter_bundle.v44/notebook/lib/python2.7/site-packages/zmq/eventloop/zmqstream.py\", line 440, in _handle_events\n    self._handle_recv()\n  File \"/usr/local/src/bluemix_jupyter_bundle.v44/notebook/lib/python2.7/site-packages/zmq/eventloop/zmqstream.py\", line 472, in _handle_recv\n    self._run_callback(callback, msg)\n  File \"/usr/local/src/bluemix_jupyter_bundle.v44/notebook/lib/python2.7/site-packages/zmq/eventloop/zmqstream.py\", line 414, in _run_callback\n    callback(*args, **kwargs)\n  File \"/usr/local/src/bluemix_jupyter_bundle.v44/notebook/lib/python2.7/site-packages/tornado/stack_context.py\", line 275, in null_wrapper\n    return fn(*args, **kwargs)\n  File \"/usr/local/src/bluemix_jupyter_bundle.v44/notebook/lib/python2.7/site-packages/ipykernel/kernelbase.py\", line 276, in dispatcher\n    return self.dispatch_shell(stream, msg)\n  File \"/usr/local/src/bluemix_jupyter_bundle.v44/notebook/lib/python2.7/site-packages/ipykernel/kernelbase.py\", line 228, in dispatch_shell\n    handler(stream, idents, msg)\n  File \"/usr/local/src/bluemix_jupyter_bundle.v44/notebook/lib/python2.7/site-packages/ipykernel/kernelbase.py\", line 391, in execute_request\n    user_expressions, allow_stdin)\n  File \"/usr/local/src/bluemix_jupyter_bundle.v44/notebook/lib/python2.7/site-packages/ipykernel/ipkernel.py\", line 199, in do_execute\n    shell.run_cell(code, store_history=store_history, silent=silent)\n  File \"/usr/local/src/bluemix_jupyter_bundle.v44/notebook/lib/python2.7/site-packages/IPython/core/interactiveshell.py\", line 2723, in run_cell\n    interactivity=interactivity, compiler=compiler, result=result)\n  File \"/usr/local/src/bluemix_jupyter_bundle.v44/notebook/lib/python2.7/site-packages/IPython/core/interactiveshell.py\", line 2825, in run_ast_nodes\n    if self.run_code(code, result):\n  File \"/usr/local/src/bluemix_jupyter_bundle.v44/notebook/lib/python2.7/site-packages/IPython/core/interactiveshell.py\", line 2885, in run_code\n    exec(code_obj, self.user_global_ns, self.user_ns)\n  File \"<ipython-input-27-d209d373e0f3>\", line 3, in <module>\n    train_step = tf.train.AdamOptimizer(learning_rate=learning_rate).minimize(cross_entropy)\n  File \"/usr/local/src/bluemix_jupyter_bundle.v44/notebook/lib/python2.7/site-packages/tensorflow/python/training/optimizer.py\", line 195, in minimize\n    name=name)\n  File \"/usr/local/src/bluemix_jupyter_bundle.v44/notebook/lib/python2.7/site-packages/tensorflow/python/training/optimizer.py\", line 297, in apply_gradients\n    self._create_slots(var_list)\n  File \"/usr/local/src/bluemix_jupyter_bundle.v44/notebook/lib/python2.7/site-packages/tensorflow/python/training/adam.py\", line 115, in _create_slots\n    self._zeros_slot(v, \"v\", self._name)\n  File \"/usr/local/src/bluemix_jupyter_bundle.v44/notebook/lib/python2.7/site-packages/tensorflow/python/training/optimizer.py\", line 491, in _zeros_slot\n    named_slots[var] = slot_creator.create_zeros_slot(var, op_name)\n  File \"/usr/local/src/bluemix_jupyter_bundle.v44/notebook/lib/python2.7/site-packages/tensorflow/python/training/slot_creator.py\", line 108, in create_zeros_slot\n    colocate_with_primary=colocate_with_primary)\n  File \"/usr/local/src/bluemix_jupyter_bundle.v44/notebook/lib/python2.7/site-packages/tensorflow/python/training/slot_creator.py\", line 86, in create_slot\n    return _create_slot_var(primary, val, scope)\n  File \"/usr/local/src/bluemix_jupyter_bundle.v44/notebook/lib/python2.7/site-packages/tensorflow/python/training/slot_creator.py\", line 50, in _create_slot_var\n    slot = variables.Variable(val, name=scope, trainable=False)\n  File \"/usr/local/src/bluemix_jupyter_bundle.v44/notebook/lib/python2.7/site-packages/tensorflow/python/ops/variables.py\", line 211, in __init__\n    dtype=dtype)\n  File \"/usr/local/src/bluemix_jupyter_bundle.v44/notebook/lib/python2.7/site-packages/tensorflow/python/ops/variables.py\", line 309, in _init_from_args\n    validate_shape=validate_shape).op\n  File \"/usr/local/src/bluemix_jupyter_bundle.v44/notebook/lib/python2.7/site-packages/tensorflow/python/ops/gen_state_ops.py\", line 45, in assign\n    use_locking=use_locking, name=name)\n  File \"/usr/local/src/bluemix_jupyter_bundle.v44/notebook/lib/python2.7/site-packages/tensorflow/python/ops/op_def_library.py\", line 704, in apply_op\n    op_def=op_def)\n  File \"/usr/local/src/bluemix_jupyter_bundle.v44/notebook/lib/python2.7/site-packages/tensorflow/python/framework/ops.py\", line 2260, in create_op\n    original_op=self._default_original_op, op_def=op_def)\n  File \"/usr/local/src/bluemix_jupyter_bundle.v44/notebook/lib/python2.7/site-packages/tensorflow/python/framework/ops.py\", line 1230, in __init__\n    self._traceback = _extract_stack()\n"
                }
            ]
        }, 
        {
            "cell_type": "markdown", 
            "metadata": {
                "collapsed": false
            }, 
            "source": "## Evaluation"
        }, 
        {
            "cell_type": "code", 
            "execution_count": null, 
            "metadata": {
                "collapsed": false
            }, 
            "source": "y_ = np.argmax(y_test,1)\nconfusion_matrix(y_, y)", 
            "outputs": []
        }, 
        {
            "cell_type": "markdown", 
            "metadata": {}, 
            "source": "### Viz"
        }, 
        {
            "cell_type": "code", 
            "execution_count": null, 
            "metadata": {
                "collapsed": false
            }, 
            "source": "!wget --output-document utils1.py http://deeplearning.net/tutorial/code/utils.py\nimport utils1\nfrom utils1 import tile_raster_images", 
            "outputs": []
        }, 
        {
            "cell_type": "code", 
            "execution_count": null, 
            "metadata": {
                "collapsed": false
            }, 
            "source": "#from utils import tile_raster_images\nimport matplotlib.pyplot as plt\nfrom PIL import Image\n%matplotlib inline\nimage = Image.fromarray(tile_raster_images(kernels_l1, img_shape=(5, 5) ,tile_shape=(4, 8), tile_spacing=(1, 1)))\n### Plot image\nplt.rcParams['figure.figsize'] = (18.0, 18.0)\nimgplot = plt.imshow(image)\nimgplot.set_cmap('gray')  ", 
            "outputs": []
        }, 
        {
            "cell_type": "code", 
            "execution_count": 17, 
            "metadata": {
                "collapsed": false
            }, 
            "source": "image = Image.fromarray(tile_raster_images(kernels_l2, img_shape=(5, 5) ,tile_shape=(4, 12), tile_spacing=(1, 1)))\n### Plot image\nplt.rcParams['figure.figsize'] = (18.0, 18.0)\nimgplot = plt.imshow(image)\nimgplot.set_cmap('gray')  ", 
            "outputs": [
                {
                    "output_type": "error", 
                    "traceback": [
                        "\u001b[1;31m\u001b[0m", 
                        "\u001b[1;31mNameError\u001b[0mTraceback (most recent call last)", 
                        "\u001b[1;32m<ipython-input-17-8f5297516518>\u001b[0m in \u001b[0;36m<module>\u001b[1;34m()\u001b[0m\n\u001b[1;32m----> 1\u001b[1;33m \u001b[0mimage\u001b[0m \u001b[1;33m=\u001b[0m \u001b[0mImage\u001b[0m\u001b[1;33m.\u001b[0m\u001b[0mfromarray\u001b[0m\u001b[1;33m(\u001b[0m\u001b[0mtile_raster_images\u001b[0m\u001b[1;33m(\u001b[0m\u001b[0mkernels_l2\u001b[0m\u001b[1;33m,\u001b[0m \u001b[0mimg_shape\u001b[0m\u001b[1;33m=\u001b[0m\u001b[1;33m(\u001b[0m\u001b[1;36m5\u001b[0m\u001b[1;33m,\u001b[0m \u001b[1;36m5\u001b[0m\u001b[1;33m)\u001b[0m \u001b[1;33m,\u001b[0m\u001b[0mtile_shape\u001b[0m\u001b[1;33m=\u001b[0m\u001b[1;33m(\u001b[0m\u001b[1;36m4\u001b[0m\u001b[1;33m,\u001b[0m \u001b[1;36m12\u001b[0m\u001b[1;33m)\u001b[0m\u001b[1;33m,\u001b[0m \u001b[0mtile_spacing\u001b[0m\u001b[1;33m=\u001b[0m\u001b[1;33m(\u001b[0m\u001b[1;36m1\u001b[0m\u001b[1;33m,\u001b[0m \u001b[1;36m1\u001b[0m\u001b[1;33m)\u001b[0m\u001b[1;33m)\u001b[0m\u001b[1;33m)\u001b[0m\u001b[1;33m\u001b[0m\u001b[0m\n\u001b[0m\u001b[0;32m      2\u001b[0m \u001b[1;31m### Plot image\u001b[0m\u001b[1;33m\u001b[0m\u001b[1;33m\u001b[0m\u001b[0m\n\u001b[0;32m      3\u001b[0m \u001b[0mplt\u001b[0m\u001b[1;33m.\u001b[0m\u001b[0mrcParams\u001b[0m\u001b[1;33m[\u001b[0m\u001b[1;34m'figure.figsize'\u001b[0m\u001b[1;33m]\u001b[0m \u001b[1;33m=\u001b[0m \u001b[1;33m(\u001b[0m\u001b[1;36m18.0\u001b[0m\u001b[1;33m,\u001b[0m \u001b[1;36m18.0\u001b[0m\u001b[1;33m)\u001b[0m\u001b[1;33m\u001b[0m\u001b[0m\n\u001b[0;32m      4\u001b[0m \u001b[0mimgplot\u001b[0m \u001b[1;33m=\u001b[0m \u001b[0mplt\u001b[0m\u001b[1;33m.\u001b[0m\u001b[0mimshow\u001b[0m\u001b[1;33m(\u001b[0m\u001b[0mimage\u001b[0m\u001b[1;33m)\u001b[0m\u001b[1;33m\u001b[0m\u001b[0m\n\u001b[0;32m      5\u001b[0m \u001b[0mimgplot\u001b[0m\u001b[1;33m.\u001b[0m\u001b[0mset_cmap\u001b[0m\u001b[1;33m(\u001b[0m\u001b[1;34m'gray'\u001b[0m\u001b[1;33m)\u001b[0m\u001b[1;33m\u001b[0m\u001b[0m\n", 
                        "\u001b[1;31mNameError\u001b[0m: name 'Image' is not defined"
                    ], 
                    "ename": "NameError", 
                    "evalue": "name 'Image' is not defined"
                }
            ]
        }, 
        {
            "cell_type": "code", 
            "execution_count": null, 
            "metadata": {
                "collapsed": true
            }, 
            "source": "", 
            "outputs": []
        }
    ], 
    "metadata": {
        "kernelspec": {
            "display_name": "Python 2 with Spark 2.0", 
            "language": "python", 
            "name": "python2-spark20"
        }, 
        "language_info": {
            "codemirror_mode": {
                "version": 2, 
                "name": "ipython"
            }, 
            "version": "2.7.11", 
            "name": "python", 
            "file_extension": ".py", 
            "nbconvert_exporter": "python", 
            "mimetype": "text/x-python", 
            "pygments_lexer": "ipython2"
        }
    }, 
    "nbformat_minor": 0
}