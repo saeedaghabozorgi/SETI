{
    "nbformat": 4, 
    "metadata": {
        "language_info": {
            "name": "python", 
            "nbconvert_exporter": "python", 
            "mimetype": "text/x-python", 
            "version": "2.7.11", 
            "codemirror_mode": {
                "name": "ipython", 
                "version": 2
            }, 
            "file_extension": ".py", 
            "pygments_lexer": "ipython2"
        }, 
        "kernelspec": {
            "name": "python2-spark20", 
            "display_name": "Python 2 with Spark 2.0", 
            "language": "python"
        }
    }, 
    "nbformat_minor": 0, 
    "cells": [
        {
            "outputs": [
                {
                    "name": "stdout", 
                    "output_type": "stream", 
                    "text": "test\n"
                }
            ], 
            "metadata": {
                "collapsed": false
            }, 
            "source": "print('test')", 
            "execution_count": 3, 
            "cell_type": "code"
        }, 
        {
            "outputs": [], 
            "metadata": {
                "collapsed": true
            }, 
            "source": "x = 1", 
            "execution_count": 4, 
            "cell_type": "code"
        }, 
        {
            "outputs": [], 
            "metadata": {
                "collapsed": true
            }, 
            "source": "", 
            "execution_count": null, 
            "cell_type": "code"
        }
    ]
}